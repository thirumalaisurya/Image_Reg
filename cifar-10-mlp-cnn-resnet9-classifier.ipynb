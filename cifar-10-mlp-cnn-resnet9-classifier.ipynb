{
 "cells": [
  {
   "cell_type": "markdown",
   "id": "8ad06c19",
   "metadata": {
    "id": "3OHqrodZQROP",
    "papermill": {
     "duration": 0.100421,
     "end_time": "2022-05-17T16:05:35.277914",
     "exception": false,
     "start_time": "2022-05-17T16:05:35.177493",
     "status": "completed"
    },
    "tags": []
   },
   "source": [
    "# Import libraries"
   ]
  },
  {
   "cell_type": "code",
   "execution_count": 3,
   "id": "594567fe",
   "metadata": {
    "execution": {
     "iopub.execute_input": "2022-05-17T16:05:35.440468Z",
     "iopub.status.busy": "2022-05-17T16:05:35.440032Z",
     "iopub.status.idle": "2022-05-17T16:05:37.469386Z",
     "shell.execute_reply": "2022-05-17T16:05:37.468683Z"
    },
    "id": "MyL9SFPWI9gm",
    "papermill": {
     "duration": 2.129665,
     "end_time": "2022-05-17T16:05:37.471853",
     "exception": false,
     "start_time": "2022-05-17T16:05:35.342188",
     "status": "completed"
    },
    "tags": []
   },
   "outputs": [],
   "source": [
    "import time\n",
    "\n",
    "import pandas as pd\n",
    "import platform\n",
    "import io\n",
    "\n",
    "import matplotlib.pyplot as plt\n",
    "from matplotlib.pyplot import cm \n",
    "\n",
    "import torch\n",
    "import torch.nn as nn\n",
    "import torch.optim as optim\n",
    "\n",
    "import torch.nn as nn\n",
    "import torch.nn.functional as F\n",
    "\n",
    "from torchvision.datasets import CIFAR10\n",
    "import torchvision.transforms as transforms\n",
    "import torchvision\n",
    "\n",
    "import matplotlib.pyplot as plt\n",
    "import numpy as np"
   ]
  },
  {
   "cell_type": "code",
   "execution_count": 4,
   "id": "258e5f74",
   "metadata": {
    "execution": {
     "iopub.execute_input": "2022-05-17T16:05:37.583824Z",
     "iopub.status.busy": "2022-05-17T16:05:37.583595Z",
     "iopub.status.idle": "2022-05-17T16:05:37.587139Z",
     "shell.execute_reply": "2022-05-17T16:05:37.586503Z"
    },
    "id": "033jm0hmXEdU",
    "papermill": {
     "duration": 0.061418,
     "end_time": "2022-05-17T16:05:37.588736",
     "exception": false,
     "start_time": "2022-05-17T16:05:37.527318",
     "status": "completed"
    },
    "tags": []
   },
   "outputs": [],
   "source": [
    "# Constants\n",
    "IMAGE_WIDTH = 32\n",
    "IMAGE_HEIGHT = 32\n",
    "COLOR_CHANNELS = 3\n",
    "N_CLASSES = 10"
   ]
  },
  {
   "cell_type": "code",
   "execution_count": 2,
   "id": "176f31e1",
   "metadata": {},
   "outputs": [
    {
     "data": {
      "text/plain": [
       "False"
      ]
     },
     "execution_count": 2,
     "metadata": {},
     "output_type": "execute_result"
    }
   ],
   "source": [
    "import torch\n",
    "torch.cuda.is_available()"
   ]
  },
  {
   "cell_type": "code",
   "execution_count": 5,
   "id": "5a65ab63",
   "metadata": {
    "execution": {
     "iopub.execute_input": "2022-05-17T16:05:37.709968Z",
     "iopub.status.busy": "2022-05-17T16:05:37.709254Z",
     "iopub.status.idle": "2022-05-17T16:05:37.767943Z",
     "shell.execute_reply": "2022-05-17T16:05:37.766609Z"
    },
    "id": "z8yWxOLEw3PE",
    "outputId": "251b8fa7-f09f-4f35-eb83-270ea5699bd6",
    "papermill": {
     "duration": 0.12465,
     "end_time": "2022-05-17T16:05:37.769874",
     "exception": false,
     "start_time": "2022-05-17T16:05:37.645224",
     "status": "completed"
    },
    "tags": []
   },
   "outputs": [
    {
     "name": "stdout",
     "output_type": "stream",
     "text": [
      "False\n"
     ]
    }
   ],
   "source": [
    "# check if cuda is available\n",
    "cuda = torch.cuda.is_available()\n",
    "print(cuda)"
   ]
  },
  {
   "cell_type": "markdown",
   "id": "e5be199f",
   "metadata": {
    "id": "emPfVTRtQLR1",
    "papermill": {
     "duration": 0.061807,
     "end_time": "2022-05-17T16:05:37.895832",
     "exception": false,
     "start_time": "2022-05-17T16:05:37.834025",
     "status": "completed"
    },
    "tags": []
   },
   "source": [
    "# Load raw CIFAR-10 Dataset and Labels"
   ]
  },
  {
   "cell_type": "code",
   "execution_count": 6,
   "id": "96ec5896",
   "metadata": {
    "execution": {
     "iopub.execute_input": "2022-05-17T16:05:38.023979Z",
     "iopub.status.busy": "2022-05-17T16:05:38.023166Z",
     "iopub.status.idle": "2022-05-17T16:05:38.029220Z",
     "shell.execute_reply": "2022-05-17T16:05:38.028567Z"
    },
    "id": "tGO_AC1ZBFa5",
    "papermill": {
     "duration": 0.07273,
     "end_time": "2022-05-17T16:05:38.031144",
     "exception": false,
     "start_time": "2022-05-17T16:05:37.958414",
     "status": "completed"
    },
    "tags": []
   },
   "outputs": [],
   "source": [
    "transform = transforms.Compose(\n",
    "    [transforms.ToTensor(),\n",
    "     transforms.Normalize((0.5, 0.5, 0.5), (0.5, 0.5, 0.5))])"
   ]
  },
  {
   "cell_type": "code",
   "execution_count": 7,
   "id": "f7efb98d",
   "metadata": {
    "execution": {
     "iopub.execute_input": "2022-05-17T16:05:38.156138Z",
     "iopub.status.busy": "2022-05-17T16:05:38.155469Z",
     "iopub.status.idle": "2022-05-17T16:05:45.129473Z",
     "shell.execute_reply": "2022-05-17T16:05:45.128746Z"
    },
    "id": "DVMG2SCcJIfd",
    "outputId": "69f32745-55ed-42f1-bc79-613569ed333b",
    "papermill": {
     "duration": 7.039098,
     "end_time": "2022-05-17T16:05:45.131621",
     "exception": false,
     "start_time": "2022-05-17T16:05:38.092523",
     "status": "completed"
    },
    "tags": []
   },
   "outputs": [
    {
     "name": "stdout",
     "output_type": "stream",
     "text": [
      "Files already downloaded and verified\n"
     ]
    }
   ],
   "source": [
    "train_dataset = CIFAR10(root='.',\n",
    "                        train=True,\n",
    "                        transform=transform,\n",
    "                        download=True)\n",
    "\n",
    "test_dataset  = CIFAR10(root='.',\n",
    "                        train=False,\n",
    "                        transform=transform,)\n"
   ]
  },
  {
   "cell_type": "code",
   "execution_count": 8,
   "id": "1f05a187",
   "metadata": {
    "execution": {
     "iopub.execute_input": "2022-05-17T16:05:45.253288Z",
     "iopub.status.busy": "2022-05-17T16:05:45.253023Z",
     "iopub.status.idle": "2022-05-17T16:05:45.335991Z",
     "shell.execute_reply": "2022-05-17T16:05:45.335135Z"
    },
    "id": "4RwhtrUsLLN2",
    "papermill": {
     "duration": 0.148635,
     "end_time": "2022-05-17T16:05:45.338196",
     "exception": false,
     "start_time": "2022-05-17T16:05:45.189561",
     "status": "completed"
    },
    "tags": []
   },
   "outputs": [],
   "source": [
    "# check the meta data and batch labels\n",
    "data_batch_1 = pd.read_pickle(r'./cifar-10-batches-py/data_batch_1')\n",
    "meta_data    = pd.read_pickle(r'./cifar-10-batches-py/batches.meta')"
   ]
  },
  {
   "cell_type": "code",
   "execution_count": 9,
   "id": "6fe4d290",
   "metadata": {
    "execution": {
     "iopub.execute_input": "2022-05-17T16:05:45.465927Z",
     "iopub.status.busy": "2022-05-17T16:05:45.465178Z",
     "iopub.status.idle": "2022-05-17T16:05:45.469999Z",
     "shell.execute_reply": "2022-05-17T16:05:45.469257Z"
    },
    "id": "ZoAjdPppQxDv",
    "outputId": "15c1924d-e0b2-4c52-ccab-b6552fd66633",
    "papermill": {
     "duration": 0.070897,
     "end_time": "2022-05-17T16:05:45.472760",
     "exception": false,
     "start_time": "2022-05-17T16:05:45.401863",
     "status": "completed"
    },
    "tags": []
   },
   "outputs": [
    {
     "name": "stdout",
     "output_type": "stream",
     "text": [
      "dict_keys(['batch_label', 'labels', 'data', 'filenames'])\n",
      "dict_keys(['num_cases_per_batch', 'label_names', 'num_vis'])\n"
     ]
    }
   ],
   "source": [
    "print(data_batch_1.keys())\n",
    "print(meta_data.keys())"
   ]
  },
  {
   "cell_type": "code",
   "execution_count": 10,
   "id": "91829d50",
   "metadata": {
    "execution": {
     "iopub.execute_input": "2022-05-17T16:05:45.599729Z",
     "iopub.status.busy": "2022-05-17T16:05:45.598887Z",
     "iopub.status.idle": "2022-05-17T16:05:45.606577Z",
     "shell.execute_reply": "2022-05-17T16:05:45.605779Z"
    },
    "id": "BImsQBjoQ1uf",
    "outputId": "e2d66ad6-cba9-4f29-f5b5-57c9774bcdc2",
    "papermill": {
     "duration": 0.072168,
     "end_time": "2022-05-17T16:05:45.608405",
     "exception": false,
     "start_time": "2022-05-17T16:05:45.536237",
     "status": "completed"
    },
    "tags": []
   },
   "outputs": [
    {
     "data": {
      "text/plain": [
       "{0, 1, 2, 3, 4, 5, 6, 7, 8, 9}"
      ]
     },
     "execution_count": 10,
     "metadata": {},
     "output_type": "execute_result"
    }
   ],
   "source": [
    "one_hot_labels = set(data_batch_1['labels']) # One-hot encoding labels\n",
    "one_hot_labels"
   ]
  },
  {
   "cell_type": "code",
   "execution_count": 11,
   "id": "4085f122",
   "metadata": {
    "execution": {
     "iopub.execute_input": "2022-05-17T16:05:45.734659Z",
     "iopub.status.busy": "2022-05-17T16:05:45.734030Z",
     "iopub.status.idle": "2022-05-17T16:05:45.739048Z",
     "shell.execute_reply": "2022-05-17T16:05:45.738403Z"
    },
    "id": "JrCnPNqjPZMy",
    "outputId": "3176a5e5-bbd4-4e1b-8b1a-d61c3d45278c",
    "papermill": {
     "duration": 0.070033,
     "end_time": "2022-05-17T16:05:45.740911",
     "exception": false,
     "start_time": "2022-05-17T16:05:45.670878",
     "status": "completed"
    },
    "tags": []
   },
   "outputs": [
    {
     "data": {
      "text/plain": [
       "['airplane',\n",
       " 'automobile',\n",
       " 'bird',\n",
       " 'cat',\n",
       " 'deer',\n",
       " 'dog',\n",
       " 'frog',\n",
       " 'horse',\n",
       " 'ship',\n",
       " 'truck']"
      ]
     },
     "execution_count": 11,
     "metadata": {},
     "output_type": "execute_result"
    }
   ],
   "source": [
    "labels_name = meta_data['label_names']\n",
    "labels_name"
   ]
  },
  {
   "cell_type": "code",
   "execution_count": 12,
   "id": "f39e35d1",
   "metadata": {
    "execution": {
     "iopub.execute_input": "2022-05-17T16:05:45.857561Z",
     "iopub.status.busy": "2022-05-17T16:05:45.856931Z",
     "iopub.status.idle": "2022-05-17T16:05:45.862480Z",
     "shell.execute_reply": "2022-05-17T16:05:45.861844Z"
    },
    "id": "5CSPwlxRPuVe",
    "outputId": "8420a161-85cc-4e17-af44-e3a34ca5d559",
    "papermill": {
     "duration": 0.065996,
     "end_time": "2022-05-17T16:05:45.864490",
     "exception": false,
     "start_time": "2022-05-17T16:05:45.798494",
     "status": "completed"
    },
    "tags": []
   },
   "outputs": [
    {
     "data": {
      "text/plain": [
       "{0: 'airplane',\n",
       " 1: 'automobile',\n",
       " 2: 'bird',\n",
       " 3: 'cat',\n",
       " 4: 'deer',\n",
       " 5: 'dog',\n",
       " 6: 'frog',\n",
       " 7: 'horse',\n",
       " 8: 'ship',\n",
       " 9: 'truck'}"
      ]
     },
     "execution_count": 12,
     "metadata": {},
     "output_type": "execute_result"
    }
   ],
   "source": [
    "label_dict = {k:v for k,v in zip(one_hot_labels, labels_name)} # dict(zip(labels, one_hot))\n",
    "label_dict"
   ]
  },
  {
   "cell_type": "code",
   "execution_count": 13,
   "id": "b3074d54",
   "metadata": {
    "execution": {
     "iopub.execute_input": "2022-05-17T16:05:45.982069Z",
     "iopub.status.busy": "2022-05-17T16:05:45.981317Z",
     "iopub.status.idle": "2022-05-17T16:05:45.986991Z",
     "shell.execute_reply": "2022-05-17T16:05:45.986275Z"
    },
    "id": "7bZciNerSABJ",
    "outputId": "af7f1100-70a8-40da-897d-59faf34631d6",
    "papermill": {
     "duration": 0.066289,
     "end_time": "2022-05-17T16:05:45.988609",
     "exception": false,
     "start_time": "2022-05-17T16:05:45.922320",
     "status": "completed"
    },
    "tags": []
   },
   "outputs": [
    {
     "data": {
      "text/plain": [
       "'ship'"
      ]
     },
     "execution_count": 13,
     "metadata": {},
     "output_type": "execute_result"
    }
   ],
   "source": [
    "label_dict.get(8)"
   ]
  },
  {
   "cell_type": "code",
   "execution_count": 14,
   "id": "acb58f2c",
   "metadata": {
    "execution": {
     "iopub.execute_input": "2022-05-17T16:05:46.106608Z",
     "iopub.status.busy": "2022-05-17T16:05:46.105930Z",
     "iopub.status.idle": "2022-05-17T16:06:01.581469Z",
     "shell.execute_reply": "2022-05-17T16:06:01.580229Z"
    },
    "id": "a18gWxNsJ6Fy",
    "outputId": "d737ad54-82bd-4f10-87f7-64ac2f09bffa",
    "papermill": {
     "duration": 15.53659,
     "end_time": "2022-05-17T16:06:01.583404",
     "exception": false,
     "start_time": "2022-05-17T16:05:46.046814",
     "status": "completed"
    },
    "tags": []
   },
   "outputs": [
    {
     "name": "stdout",
     "output_type": "stream",
     "text": [
      "Train data shape: 50000\n",
      "Test data shape:  10000\n"
     ]
    }
   ],
   "source": [
    "# check the shape of the dataset \n",
    "train_data = list(train_dataset)\n",
    "test_data  = list(test_dataset)\n",
    "print(f'Train data shape: {len(train_data)}')\n",
    "print(f'Test data shape:  {len(test_data)}')"
   ]
  },
  {
   "cell_type": "code",
   "execution_count": 1,
   "id": "f9c77bed",
   "metadata": {
    "execution": {
     "iopub.execute_input": "2022-05-17T16:06:01.701560Z",
     "iopub.status.busy": "2022-05-17T16:06:01.701301Z",
     "iopub.status.idle": "2022-05-17T16:06:01.705435Z",
     "shell.execute_reply": "2022-05-17T16:06:01.704765Z"
    },
    "id": "k9Dr39k3O-pC",
    "outputId": "cf73ac77-1e95-48ef-d475-884fdbecb1fc",
    "papermill": {
     "duration": 0.065622,
     "end_time": "2022-05-17T16:06:01.707606",
     "exception": false,
     "start_time": "2022-05-17T16:06:01.641984",
     "status": "completed"
    },
    "tags": []
   },
   "outputs": [
    {
     "ename": "NameError",
     "evalue": "name 'train_data' is not defined",
     "output_type": "error",
     "traceback": [
      "\u001b[1;31m---------------------------------------------------------------------------\u001b[0m",
      "\u001b[1;31mNameError\u001b[0m                                 Traceback (most recent call last)",
      "Input \u001b[1;32mIn [1]\u001b[0m, in \u001b[0;36m<cell line: 2>\u001b[1;34m()\u001b[0m\n\u001b[0;32m      1\u001b[0m \u001b[38;5;66;03m# check the shape of an image in the train data\u001b[39;00m\n\u001b[1;32m----> 2\u001b[0m image, label \u001b[38;5;241m=\u001b[39m \u001b[43mtrain_data\u001b[49m[\u001b[38;5;241m300\u001b[39m]\n\u001b[0;32m      3\u001b[0m \u001b[38;5;28mprint\u001b[39m(image\u001b[38;5;241m.\u001b[39mshape)\n\u001b[0;32m      4\u001b[0m \u001b[38;5;28mprint\u001b[39m(label)\n",
      "\u001b[1;31mNameError\u001b[0m: name 'train_data' is not defined"
     ]
    }
   ],
   "source": [
    "# check the shape of an image in the train data\n",
    "image, label = train_data[300]\n",
    "print(image.shape)\n",
    "print(label)"
   ]
  },
  {
   "cell_type": "code",
   "execution_count": null,
   "id": "9917bad7",
   "metadata": {
    "execution": {
     "iopub.execute_input": "2022-05-17T16:06:01.826787Z",
     "iopub.status.busy": "2022-05-17T16:06:01.826530Z",
     "iopub.status.idle": "2022-05-17T16:06:02.037212Z",
     "shell.execute_reply": "2022-05-17T16:06:02.036521Z"
    },
    "id": "p5YXgU39KcWv",
    "outputId": "f6479f94-210a-442c-9cc6-f2f9c060be3f",
    "papermill": {
     "duration": 0.272906,
     "end_time": "2022-05-17T16:06:02.039329",
     "exception": false,
     "start_time": "2022-05-17T16:06:01.766423",
     "status": "completed"
    },
    "tags": []
   },
   "outputs": [],
   "source": [
    "# check some random training images \n",
    "def imshow(img, label):\n",
    "    img = img / 2 + 0.5     # unnormalize\n",
    "    npimg = img.numpy()\n",
    "    plt.imshow(np.transpose(npimg, (1, 2, 0))) # tensor.permute = np.transpose\n",
    "    plt.title(''.join(f'{label_dict.get(label)}' )) # show label\n",
    "    \n",
    "\n",
    "# plt.imshow(image.permute(1,2,0))\n",
    "# plt.show()\n",
    "\n",
    "# get some random training images\n",
    "image, label = train_data[20]\n",
    "\n",
    "imshow(image, label)\n",
    "\n",
    "plt.show()"
   ]
  },
  {
   "cell_type": "markdown",
   "id": "8b9e7695",
   "metadata": {
    "id": "-4gkeIyrTQI-",
    "papermill": {
     "duration": 0.063483,
     "end_time": "2022-05-17T16:06:02.166794",
     "exception": false,
     "start_time": "2022-05-17T16:06:02.103311",
     "status": "completed"
    },
    "tags": []
   },
   "source": [
    "## Create DataLoader"
   ]
  },
  {
   "cell_type": "code",
   "execution_count": null,
   "id": "1e163d94",
   "metadata": {
    "execution": {
     "iopub.execute_input": "2022-05-17T16:06:02.293266Z",
     "iopub.status.busy": "2022-05-17T16:06:02.293011Z",
     "iopub.status.idle": "2022-05-17T16:06:02.297662Z",
     "shell.execute_reply": "2022-05-17T16:06:02.296967Z"
    },
    "id": "4AHWYrRdSDqL",
    "papermill": {
     "duration": 0.069063,
     "end_time": "2022-05-17T16:06:02.299401",
     "exception": false,
     "start_time": "2022-05-17T16:06:02.230338",
     "status": "completed"
    },
    "tags": []
   },
   "outputs": [],
   "source": [
    "batch_size = 64         # hyper-parameter \n",
    "train_loader = torch.utils.data.DataLoader(\n",
    "                            dataset = train_dataset, \n",
    "                            batch_size = batch_size, \n",
    "                            shuffle = True)\n",
    "\n",
    "test_loader = torch.utils.data.DataLoader(\n",
    "                            dataset = test_dataset, \n",
    "                            batch_size = batch_size, \n",
    "                            shuffle = True)"
   ]
  },
  {
   "cell_type": "code",
   "execution_count": null,
   "id": "f8cc221c",
   "metadata": {
    "execution": {
     "iopub.execute_input": "2022-05-17T16:06:02.426191Z",
     "iopub.status.busy": "2022-05-17T16:06:02.425684Z",
     "iopub.status.idle": "2022-05-17T16:06:14.435184Z",
     "shell.execute_reply": "2022-05-17T16:06:14.434439Z"
    },
    "id": "7izlqARaTbro",
    "papermill": {
     "duration": 12.075263,
     "end_time": "2022-05-17T16:06:14.437219",
     "exception": false,
     "start_time": "2022-05-17T16:06:02.361956",
     "status": "completed"
    },
    "tags": []
   },
   "outputs": [],
   "source": [
    "# check the shape of the batches \n",
    "dd = list(train_loader)\n"
   ]
  },
  {
   "cell_type": "code",
   "execution_count": null,
   "id": "dff53f26",
   "metadata": {
    "execution": {
     "iopub.execute_input": "2022-05-17T16:06:14.558297Z",
     "iopub.status.busy": "2022-05-17T16:06:14.558043Z",
     "iopub.status.idle": "2022-05-17T16:06:14.562760Z",
     "shell.execute_reply": "2022-05-17T16:06:14.562091Z"
    },
    "id": "YUviNHl_H-Vb",
    "outputId": "2b73325f-83a5-44f9-9680-ff3acf7ece12",
    "papermill": {
     "duration": 0.067962,
     "end_time": "2022-05-17T16:06:14.565335",
     "exception": false,
     "start_time": "2022-05-17T16:06:14.497373",
     "status": "completed"
    },
    "tags": []
   },
   "outputs": [],
   "source": [
    "images, labels = dd[0]\n",
    "print(images.shape)\n",
    "print(labels.shape)\n"
   ]
  },
  {
   "cell_type": "markdown",
   "id": "f525bdb1",
   "metadata": {
    "id": "1hOkZBLTVszK",
    "papermill": {
     "duration": 0.059752,
     "end_time": "2022-05-17T16:06:14.686265",
     "exception": false,
     "start_time": "2022-05-17T16:06:14.626513",
     "status": "completed"
    },
    "tags": []
   },
   "source": [
    "# Defining the Networks\n",
    "\n",
    "In this section, we'll build three neural network models: \n",
    "* Multi-Layer Perceptron (MLP)\n",
    "* Convolutional Neural Network (CNN)\n",
    "* ResNet9"
   ]
  },
  {
   "cell_type": "markdown",
   "id": "577839d6",
   "metadata": {
    "id": "PfLgGkQ2j2PS",
    "papermill": {
     "duration": 0.05987,
     "end_time": "2022-05-17T16:06:14.805742",
     "exception": false,
     "start_time": "2022-05-17T16:06:14.745872",
     "status": "completed"
    },
    "tags": []
   },
   "source": [
    "## MLP"
   ]
  },
  {
   "cell_type": "code",
   "execution_count": 18,
   "id": "42ea2169",
   "metadata": {
    "execution": {
     "iopub.execute_input": "2022-05-17T16:06:14.927128Z",
     "iopub.status.busy": "2022-05-17T16:06:14.926345Z",
     "iopub.status.idle": "2022-05-17T16:06:14.934319Z",
     "shell.execute_reply": "2022-05-17T16:06:14.933680Z"
    },
    "id": "YupWjkpfTeg5",
    "papermill": {
     "duration": 0.070672,
     "end_time": "2022-05-17T16:06:14.936095",
     "exception": false,
     "start_time": "2022-05-17T16:06:14.865423",
     "status": "completed"
    },
    "tags": []
   },
   "outputs": [],
   "source": [
    "class MLP(torch.nn.Module):\n",
    "  def __init__(self, input_size, n_hidden_units, n_classes):\n",
    "    super(MLP, self).__init__()\n",
    "\n",
    "    h1, h2, h3 = n_hidden_units\n",
    "\n",
    "    # Add Linear layers\n",
    "    self.fc1 = nn.Linear(input_size,h1)\n",
    "    self.fc2 = nn.Linear(h1, h2)\n",
    "    self.fc3 = nn.Linear(h2, h3)\n",
    "    self.fc4 = nn.Linear(h3, n_classes) # 10 classes\n",
    "    self.dropout = nn.Dropout(0.25)\n",
    "\n",
    "  def forward(self, x):\n",
    "    x = x.view(-1, input_size) # Flatten out the input layer\n",
    "    x = F.relu(self.fc1(x))\n",
    "    x = F.relu(self.fc2(x))\n",
    "    x = F.relu(self.fc3(x))\n",
    "    x = self.dropout(x)\n",
    "    x = self.fc4(x)\n",
    "    return x\n",
    "\n"
   ]
  },
  {
   "cell_type": "code",
   "execution_count": 19,
   "id": "cb5b3171",
   "metadata": {
    "execution": {
     "iopub.execute_input": "2022-05-17T16:06:15.069811Z",
     "iopub.status.busy": "2022-05-17T16:06:15.069572Z",
     "iopub.status.idle": "2022-05-17T16:06:15.089056Z",
     "shell.execute_reply": "2022-05-17T16:06:15.088444Z"
    },
    "id": "sMEvqMATyQzP",
    "papermill": {
     "duration": 0.082521,
     "end_time": "2022-05-17T16:06:15.090785",
     "exception": false,
     "start_time": "2022-05-17T16:06:15.008264",
     "status": "completed"
    },
    "tags": []
   },
   "outputs": [],
   "source": [
    "# Initialize MLP model\n",
    "input_size = IMAGE_HEIGHT*IMAGE_WIDTH*COLOR_CHANNELS\n",
    "n_hidden_units = [512, 256, 128]\n",
    "\n",
    "mlp_model = MLP(input_size, n_hidden_units, N_CLASSES)"
   ]
  },
  {
   "cell_type": "code",
   "execution_count": 20,
   "id": "49e87e57",
   "metadata": {
    "execution": {
     "iopub.execute_input": "2022-05-17T16:06:15.212883Z",
     "iopub.status.busy": "2022-05-17T16:06:15.212664Z",
     "iopub.status.idle": "2022-05-17T16:06:15.269493Z",
     "shell.execute_reply": "2022-05-17T16:06:15.268832Z"
    },
    "id": "EGRwm4W_yR1K",
    "outputId": "b0a8b1ce-e8ba-404b-d58f-ff9b50fbd445",
    "papermill": {
     "duration": 0.119942,
     "end_time": "2022-05-17T16:06:15.271247",
     "exception": false,
     "start_time": "2022-05-17T16:06:15.151305",
     "status": "completed"
    },
    "tags": []
   },
   "outputs": [
    {
     "data": {
      "text/plain": [
       "torch.Size([64, 10])"
      ]
     },
     "execution_count": 20,
     "metadata": {},
     "output_type": "execute_result"
    }
   ],
   "source": [
    "# check the shape of MLP model\n",
    "output = mlp_model(images)\n",
    "output.shape"
   ]
  },
  {
   "cell_type": "markdown",
   "id": "903f758a",
   "metadata": {
    "id": "5RXl8cVnj35k",
    "papermill": {
     "duration": 0.060806,
     "end_time": "2022-05-17T16:06:15.393319",
     "exception": false,
     "start_time": "2022-05-17T16:06:15.332513",
     "status": "completed"
    },
    "tags": []
   },
   "source": [
    "## CNN"
   ]
  },
  {
   "cell_type": "code",
   "execution_count": 21,
   "id": "d861d924",
   "metadata": {
    "execution": {
     "iopub.execute_input": "2022-05-17T16:06:15.517255Z",
     "iopub.status.busy": "2022-05-17T16:06:15.516740Z",
     "iopub.status.idle": "2022-05-17T16:06:15.521141Z",
     "shell.execute_reply": "2022-05-17T16:06:15.520500Z"
    },
    "papermill": {
     "duration": 0.068117,
     "end_time": "2022-05-17T16:06:15.522884",
     "exception": false,
     "start_time": "2022-05-17T16:06:15.454767",
     "status": "completed"
    },
    "tags": []
   },
   "outputs": [],
   "source": [
    "def conv3x3(in_channels, out_channels, stride=1):\n",
    "  \"\"\"3x3 convolution with padding\"\"\"\n",
    "  return nn.Conv2d(in_channels, out_channels, kernel_size=3, stride=stride, padding=1, bias=False)\n"
   ]
  },
  {
   "cell_type": "code",
   "execution_count": 22,
   "id": "6fa007e9",
   "metadata": {
    "execution": {
     "iopub.execute_input": "2022-05-17T16:06:15.646047Z",
     "iopub.status.busy": "2022-05-17T16:06:15.645371Z",
     "iopub.status.idle": "2022-05-17T16:06:15.656899Z",
     "shell.execute_reply": "2022-05-17T16:06:15.656229Z"
    },
    "papermill": {
     "duration": 0.075034,
     "end_time": "2022-05-17T16:06:15.658612",
     "exception": false,
     "start_time": "2022-05-17T16:06:15.583578",
     "status": "completed"
    },
    "tags": []
   },
   "outputs": [],
   "source": [
    "class CNN(torch.nn.Module):\n",
    "  def __init__(self, in_channels, n_classes):\n",
    "    super(CNN, self).__init__()\n",
    "    # Conv layers\n",
    "    self.conv =conv3x3(in_channels=in_channels, out_channels=64)\n",
    "    self.bn = nn.BatchNorm2d(64)\n",
    "    self.relu = nn.ReLU(inplace=True)\n",
    "\n",
    "    #self.conv0 =conv3x3(in_channels=in_channels, out_channels=64)\n",
    "    #self.bn0 = nn.BatchNorm2d(64)\n",
    "\n",
    "    # Residual block\n",
    "    self.conv1 = nn.Conv2d(in_channels=64, out_channels=64, kernel_size=3, stride=1, padding=1)\n",
    "    self.bn1 = nn.BatchNorm2d(64)\n",
    "    self.relu1 = nn.ReLU(inplace=True)\n",
    "\n",
    "    self.conv2 = nn.Conv2d(in_channels=64, out_channels=64, kernel_size=3, stride=1, padding=1)\n",
    "    self.bn2 = nn.BatchNorm2d(64)\n",
    "    self.relu2 = nn.ReLU(inplace=True)\n",
    "\n",
    "    # Pooling\n",
    "    self.avg_pool = nn.AvgPool2d(2)\n",
    "\n",
    "    # Linear layers\n",
    "    self.fc1 = nn.Linear(16384, 64 )\n",
    "    self.fc2 = nn.Linear(64, n_classes)\n",
    "\n",
    "  def forward(self, x):\n",
    "    \n",
    "    #print(identity.shape)\n",
    "    out = self.conv(x)\n",
    "    out = self.bn(out)\n",
    "    out = self.relu(out)\n",
    "\n",
    "    #out = self.conv0(x)\n",
    "    #out = self.bn0(out)\n",
    "    #out = self.relu(out)\n",
    "\n",
    "    out = self.conv1(out)\n",
    "    out = self.bn1(out)\n",
    "    out = self.relu1(out)\n",
    "\n",
    "    out = self.conv2(out)\n",
    "    out = self.bn2(out)\n",
    "    out = self.relu2(out)  # skip connection + out\n",
    "    #print(out.shape)\n",
    "\n",
    "    out = self.avg_pool(out)\n",
    "\n",
    "    out = out.view(out.size(0), -1) # Flatten all dimension except batch\n",
    "    #print(out.shape)\n",
    "\n",
    "    out = self.fc1(out)\n",
    "    out = F.relu(out)\n",
    "\n",
    "    out = self.fc2(out)\n",
    "    #out = F.log_softmax(out, dim=-1) # if using cross entropy, dont need to use log softmax since it's already implemented in cross entropy\n",
    "\n",
    "    return out"
   ]
  },
  {
   "cell_type": "code",
   "execution_count": 23,
   "id": "69a0b64e",
   "metadata": {
    "execution": {
     "iopub.execute_input": "2022-05-17T16:06:15.781724Z",
     "iopub.status.busy": "2022-05-17T16:06:15.781483Z",
     "iopub.status.idle": "2022-05-17T16:06:15.796396Z",
     "shell.execute_reply": "2022-05-17T16:06:15.795771Z"
    },
    "papermill": {
     "duration": 0.078717,
     "end_time": "2022-05-17T16:06:15.798051",
     "exception": false,
     "start_time": "2022-05-17T16:06:15.719334",
     "status": "completed"
    },
    "tags": []
   },
   "outputs": [],
   "source": [
    "cnn_model = CNN(in_channels=3, n_classes=10)"
   ]
  },
  {
   "cell_type": "code",
   "execution_count": 24,
   "id": "f68a55b9",
   "metadata": {
    "execution": {
     "iopub.execute_input": "2022-05-17T16:06:15.921990Z",
     "iopub.status.busy": "2022-05-17T16:06:15.921238Z",
     "iopub.status.idle": "2022-05-17T16:06:15.927183Z",
     "shell.execute_reply": "2022-05-17T16:06:15.925961Z"
    },
    "papermill": {
     "duration": 0.06983,
     "end_time": "2022-05-17T16:06:15.929347",
     "exception": false,
     "start_time": "2022-05-17T16:06:15.859517",
     "status": "completed"
    },
    "tags": []
   },
   "outputs": [
    {
     "name": "stdout",
     "output_type": "stream",
     "text": [
      "torch.Size([64, 3, 32, 32])\n",
      "torch.Size([64])\n"
     ]
    }
   ],
   "source": [
    "images, labels = dd[0]\n",
    "print(images.shape)\n",
    "print(labels.shape)"
   ]
  },
  {
   "cell_type": "code",
   "execution_count": 25,
   "id": "22d0f41d",
   "metadata": {
    "execution": {
     "iopub.execute_input": "2022-05-17T16:06:16.056383Z",
     "iopub.status.busy": "2022-05-17T16:06:16.055695Z",
     "iopub.status.idle": "2022-05-17T16:06:16.311718Z",
     "shell.execute_reply": "2022-05-17T16:06:16.310872Z"
    },
    "papermill": {
     "duration": 0.322059,
     "end_time": "2022-05-17T16:06:16.313889",
     "exception": false,
     "start_time": "2022-05-17T16:06:15.991830",
     "status": "completed"
    },
    "tags": []
   },
   "outputs": [
    {
     "data": {
      "text/plain": [
       "torch.Size([64, 10])"
      ]
     },
     "execution_count": 25,
     "metadata": {},
     "output_type": "execute_result"
    }
   ],
   "source": [
    "# Check the output shape of the model\n",
    "output = cnn_model(images)\n",
    "output.shape"
   ]
  },
  {
   "cell_type": "markdown",
   "id": "e0ed5353",
   "metadata": {
    "id": "RmNZUmhzPOQi",
    "papermill": {
     "duration": 0.061638,
     "end_time": "2022-05-17T16:06:16.437698",
     "exception": false,
     "start_time": "2022-05-17T16:06:16.376060",
     "status": "completed"
    },
    "tags": []
   },
   "source": [
    "## ResNet9"
   ]
  },
  {
   "cell_type": "code",
   "execution_count": 26,
   "id": "34008b8d",
   "metadata": {
    "execution": {
     "iopub.execute_input": "2022-05-17T16:06:16.562603Z",
     "iopub.status.busy": "2022-05-17T16:06:16.562308Z",
     "iopub.status.idle": "2022-05-17T16:06:16.568922Z",
     "shell.execute_reply": "2022-05-17T16:06:16.568262Z"
    },
    "id": "Ikce9AVPNkpM",
    "papermill": {
     "duration": 0.070917,
     "end_time": "2022-05-17T16:06:16.570603",
     "exception": false,
     "start_time": "2022-05-17T16:06:16.499686",
     "status": "completed"
    },
    "tags": []
   },
   "outputs": [],
   "source": [
    "class BasicResidualBlock(nn.Module):\n",
    "  def __init__(self):\n",
    "    super(BasicResidualBlock, self).__init__()\n",
    "    self.conv1 = nn.Conv2d(in_channels=3, out_channels=3, kernel_size=3, stride=1, padding=1)\n",
    "    self.relu1 = nn.ReLU()\n",
    "    self.conv2 = nn.Conv2d(in_channels=3, out_channels=3, kernel_size=3, stride=1, padding=1)\n",
    "    self.relu2 = nn.ReLU()\n",
    "\n",
    "  def forward(self, x):\n",
    "    identity = x\n",
    "    out = self.conv1(x)\n",
    "    out = self.relu1(out)\n",
    "    out = self.conv2(out)\n",
    "    out = self.relu2(out)\n",
    "    return self.relu2(out) + identity # ReLU can be applied before or after adding the identity/input"
   ]
  },
  {
   "cell_type": "code",
   "execution_count": 27,
   "id": "4d7273cb",
   "metadata": {
    "execution": {
     "iopub.execute_input": "2022-05-17T16:06:16.695469Z",
     "iopub.status.busy": "2022-05-17T16:06:16.694934Z",
     "iopub.status.idle": "2022-05-17T16:06:16.701475Z",
     "shell.execute_reply": "2022-05-17T16:06:16.700330Z"
    },
    "id": "GGXeu9tKOoKG",
    "outputId": "28d54cf0-10da-4c8b-e1d3-f1c9661f5455",
    "papermill": {
     "duration": 0.071217,
     "end_time": "2022-05-17T16:06:16.703431",
     "exception": false,
     "start_time": "2022-05-17T16:06:16.632214",
     "status": "completed"
    },
    "tags": []
   },
   "outputs": [
    {
     "name": "stdout",
     "output_type": "stream",
     "text": [
      "torch.Size([64, 3, 32, 32])\n",
      "torch.Size([64])\n"
     ]
    }
   ],
   "source": [
    "# Checking the output size of the BasicResidualBlock\n",
    "simple_resblock = BasicResidualBlock()\n",
    "images, labels = dd[0]\n",
    "print(images.shape)\n",
    "print(labels.shape)"
   ]
  },
  {
   "cell_type": "code",
   "execution_count": 28,
   "id": "d835fb25",
   "metadata": {
    "execution": {
     "iopub.execute_input": "2022-05-17T16:06:16.827874Z",
     "iopub.status.busy": "2022-05-17T16:06:16.827366Z",
     "iopub.status.idle": "2022-05-17T16:06:16.845737Z",
     "shell.execute_reply": "2022-05-17T16:06:16.844984Z"
    },
    "id": "99zWUOTkOytJ",
    "outputId": "8c491987-49b2-4209-f83d-36db52277fe2",
    "papermill": {
     "duration": 0.082495,
     "end_time": "2022-05-17T16:06:16.847519",
     "exception": false,
     "start_time": "2022-05-17T16:06:16.765024",
     "status": "completed"
    },
    "tags": []
   },
   "outputs": [
    {
     "data": {
      "text/plain": [
       "torch.Size([64, 3, 32, 32])"
      ]
     },
     "execution_count": 28,
     "metadata": {},
     "output_type": "execute_result"
    }
   ],
   "source": [
    "out = simple_resblock(images)\n",
    "out.shape"
   ]
  },
  {
   "cell_type": "code",
   "execution_count": 29,
   "id": "3a0b303c",
   "metadata": {
    "execution": {
     "iopub.execute_input": "2022-05-17T16:06:16.972623Z",
     "iopub.status.busy": "2022-05-17T16:06:16.972373Z",
     "iopub.status.idle": "2022-05-17T16:06:16.977049Z",
     "shell.execute_reply": "2022-05-17T16:06:16.976404Z"
    },
    "id": "YoKJSnT1Pbe4",
    "papermill": {
     "duration": 0.069245,
     "end_time": "2022-05-17T16:06:16.978695",
     "exception": false,
     "start_time": "2022-05-17T16:06:16.909450",
     "status": "completed"
    },
    "tags": []
   },
   "outputs": [],
   "source": [
    "def conv_block(in_channels, out_channels, pool=False):\n",
    "  layers = [nn.Conv2d(in_channels, out_channels, kernel_size=3, padding=1),\n",
    "            nn.BatchNorm2d(out_channels),\n",
    "            nn.ReLU(inplace=True)]\n",
    "  if pool: \n",
    "    layers.append(nn.MaxPool2d(2))\n",
    "  return nn.Sequential(*layers)"
   ]
  },
  {
   "cell_type": "code",
   "execution_count": 30,
   "id": "9c29b096",
   "metadata": {
    "execution": {
     "iopub.execute_input": "2022-05-17T16:06:17.106246Z",
     "iopub.status.busy": "2022-05-17T16:06:17.105641Z",
     "iopub.status.idle": "2022-05-17T16:06:17.114885Z",
     "shell.execute_reply": "2022-05-17T16:06:17.114254Z"
    },
    "id": "aWyCm_2BQPox",
    "papermill": {
     "duration": 0.073303,
     "end_time": "2022-05-17T16:06:17.116493",
     "exception": false,
     "start_time": "2022-05-17T16:06:17.043190",
     "status": "completed"
    },
    "tags": []
   },
   "outputs": [],
   "source": [
    "class ResNet9(nn.Module):\n",
    "  def __init__(self, in_channels, n_classes):\n",
    "    super(ResNet9, self).__init__()\n",
    "\n",
    "    self.conv1 = conv_block(in_channels, 64)\n",
    "    self.conv2 = conv_block(64, 128, pool=True)\n",
    "    self.res1  = nn.Sequential(conv_block(128,128), conv_block(128,128))\n",
    "\n",
    "    self.conv3 = conv_block(128, 256, pool=True)\n",
    "    self.conv4 = conv_block(256, 512, pool=True)\n",
    "    self.res2  = nn.Sequential(conv_block(512,512), conv_block(512,512))\n",
    "\n",
    "    self.classifier = nn.Sequential(nn.MaxPool2d(4),\n",
    "                                    nn.Flatten(),\n",
    "                                    nn.Linear(512, 128),\n",
    "                                    nn.Linear(128, n_classes))\n",
    "    \n",
    "  def forward(self, x):\n",
    "    out = self.conv1(x)\n",
    "    out = self.conv2(out)\n",
    "    out = self.res1(out) + out # skip connection\n",
    "    out = self.conv3(out)\n",
    "    out = self.conv4(out)\n",
    "    out = self.res2(out) + out # skip connection\n",
    "    out = self.classifier(out)\n",
    "    return out"
   ]
  },
  {
   "cell_type": "code",
   "execution_count": 31,
   "id": "3eb516de",
   "metadata": {
    "execution": {
     "iopub.execute_input": "2022-05-17T16:06:17.241697Z",
     "iopub.status.busy": "2022-05-17T16:06:17.241200Z",
     "iopub.status.idle": "2022-05-17T16:06:17.303652Z",
     "shell.execute_reply": "2022-05-17T16:06:17.302811Z"
    },
    "id": "7YPMQOFASN7j",
    "outputId": "6ff3d111-2f12-4ba4-f187-bec0ee0799fa",
    "papermill": {
     "duration": 0.127128,
     "end_time": "2022-05-17T16:06:17.305373",
     "exception": false,
     "start_time": "2022-05-17T16:06:17.178245",
     "status": "completed"
    },
    "tags": []
   },
   "outputs": [
    {
     "data": {
      "text/plain": [
       "ResNet9(\n",
       "  (conv1): Sequential(\n",
       "    (0): Conv2d(3, 64, kernel_size=(3, 3), stride=(1, 1), padding=(1, 1))\n",
       "    (1): BatchNorm2d(64, eps=1e-05, momentum=0.1, affine=True, track_running_stats=True)\n",
       "    (2): ReLU(inplace=True)\n",
       "  )\n",
       "  (conv2): Sequential(\n",
       "    (0): Conv2d(64, 128, kernel_size=(3, 3), stride=(1, 1), padding=(1, 1))\n",
       "    (1): BatchNorm2d(128, eps=1e-05, momentum=0.1, affine=True, track_running_stats=True)\n",
       "    (2): ReLU(inplace=True)\n",
       "    (3): MaxPool2d(kernel_size=2, stride=2, padding=0, dilation=1, ceil_mode=False)\n",
       "  )\n",
       "  (res1): Sequential(\n",
       "    (0): Sequential(\n",
       "      (0): Conv2d(128, 128, kernel_size=(3, 3), stride=(1, 1), padding=(1, 1))\n",
       "      (1): BatchNorm2d(128, eps=1e-05, momentum=0.1, affine=True, track_running_stats=True)\n",
       "      (2): ReLU(inplace=True)\n",
       "    )\n",
       "    (1): Sequential(\n",
       "      (0): Conv2d(128, 128, kernel_size=(3, 3), stride=(1, 1), padding=(1, 1))\n",
       "      (1): BatchNorm2d(128, eps=1e-05, momentum=0.1, affine=True, track_running_stats=True)\n",
       "      (2): ReLU(inplace=True)\n",
       "    )\n",
       "  )\n",
       "  (conv3): Sequential(\n",
       "    (0): Conv2d(128, 256, kernel_size=(3, 3), stride=(1, 1), padding=(1, 1))\n",
       "    (1): BatchNorm2d(256, eps=1e-05, momentum=0.1, affine=True, track_running_stats=True)\n",
       "    (2): ReLU(inplace=True)\n",
       "    (3): MaxPool2d(kernel_size=2, stride=2, padding=0, dilation=1, ceil_mode=False)\n",
       "  )\n",
       "  (conv4): Sequential(\n",
       "    (0): Conv2d(256, 512, kernel_size=(3, 3), stride=(1, 1), padding=(1, 1))\n",
       "    (1): BatchNorm2d(512, eps=1e-05, momentum=0.1, affine=True, track_running_stats=True)\n",
       "    (2): ReLU(inplace=True)\n",
       "    (3): MaxPool2d(kernel_size=2, stride=2, padding=0, dilation=1, ceil_mode=False)\n",
       "  )\n",
       "  (res2): Sequential(\n",
       "    (0): Sequential(\n",
       "      (0): Conv2d(512, 512, kernel_size=(3, 3), stride=(1, 1), padding=(1, 1))\n",
       "      (1): BatchNorm2d(512, eps=1e-05, momentum=0.1, affine=True, track_running_stats=True)\n",
       "      (2): ReLU(inplace=True)\n",
       "    )\n",
       "    (1): Sequential(\n",
       "      (0): Conv2d(512, 512, kernel_size=(3, 3), stride=(1, 1), padding=(1, 1))\n",
       "      (1): BatchNorm2d(512, eps=1e-05, momentum=0.1, affine=True, track_running_stats=True)\n",
       "      (2): ReLU(inplace=True)\n",
       "    )\n",
       "  )\n",
       "  (classifier): Sequential(\n",
       "    (0): MaxPool2d(kernel_size=4, stride=4, padding=0, dilation=1, ceil_mode=False)\n",
       "    (1): Flatten(start_dim=1, end_dim=-1)\n",
       "    (2): Linear(in_features=512, out_features=128, bias=True)\n",
       "    (3): Linear(in_features=128, out_features=10, bias=True)\n",
       "  )\n",
       ")"
      ]
     },
     "execution_count": 31,
     "metadata": {},
     "output_type": "execute_result"
    }
   ],
   "source": [
    "resnet_model = ResNet9(3,10)\n",
    "resnet_model"
   ]
  },
  {
   "cell_type": "code",
   "execution_count": 32,
   "id": "9400ae90",
   "metadata": {
    "execution": {
     "iopub.execute_input": "2022-05-17T16:06:17.432590Z",
     "iopub.status.busy": "2022-05-17T16:06:17.431943Z",
     "iopub.status.idle": "2022-05-17T16:06:17.436468Z",
     "shell.execute_reply": "2022-05-17T16:06:17.435779Z"
    },
    "id": "HZ4vJ2qcTT1W",
    "outputId": "33d09830-897e-48a8-9f53-889fc0d23fb4",
    "papermill": {
     "duration": 0.070519,
     "end_time": "2022-05-17T16:06:17.439271",
     "exception": false,
     "start_time": "2022-05-17T16:06:17.368752",
     "status": "completed"
    },
    "tags": []
   },
   "outputs": [
    {
     "name": "stdout",
     "output_type": "stream",
     "text": [
      "torch.Size([64, 3, 32, 32])\n",
      "torch.Size([64])\n"
     ]
    }
   ],
   "source": [
    "images, labels = dd[0]\n",
    "print(images.shape)\n",
    "print(labels.shape)"
   ]
  },
  {
   "cell_type": "code",
   "execution_count": 33,
   "id": "80036677",
   "metadata": {
    "execution": {
     "iopub.execute_input": "2022-05-17T16:06:17.566837Z",
     "iopub.status.busy": "2022-05-17T16:06:17.566175Z",
     "iopub.status.idle": "2022-05-17T16:06:18.273135Z",
     "shell.execute_reply": "2022-05-17T16:06:18.272451Z"
    },
    "id": "zsYMcW9DSxrH",
    "outputId": "e5a2f995-1f7c-4c71-b75a-cff41edb08ff",
    "papermill": {
     "duration": 0.773069,
     "end_time": "2022-05-17T16:06:18.274972",
     "exception": false,
     "start_time": "2022-05-17T16:06:17.501903",
     "status": "completed"
    },
    "tags": []
   },
   "outputs": [
    {
     "data": {
      "text/plain": [
       "torch.Size([64, 10])"
      ]
     },
     "execution_count": 33,
     "metadata": {},
     "output_type": "execute_result"
    }
   ],
   "source": [
    "out = resnet_model(images)\n",
    "out.shape"
   ]
  },
  {
   "cell_type": "markdown",
   "id": "3aae92a2",
   "metadata": {
    "id": "7IMf8lYJk8ao",
    "papermill": {
     "duration": 0.063319,
     "end_time": "2022-05-17T16:06:18.401841",
     "exception": false,
     "start_time": "2022-05-17T16:06:18.338522",
     "status": "completed"
    },
    "tags": []
   },
   "source": [
    "### Helper functions"
   ]
  },
  {
   "cell_type": "code",
   "execution_count": 34,
   "id": "c9ff1ec6",
   "metadata": {
    "execution": {
     "iopub.execute_input": "2022-05-17T16:06:18.530760Z",
     "iopub.status.busy": "2022-05-17T16:06:18.530499Z",
     "iopub.status.idle": "2022-05-17T16:06:18.537174Z",
     "shell.execute_reply": "2022-05-17T16:06:18.536517Z"
    },
    "id": "375lQSWOZNv6",
    "papermill": {
     "duration": 0.072697,
     "end_time": "2022-05-17T16:06:18.538815",
     "exception": false,
     "start_time": "2022-05-17T16:06:18.466118",
     "status": "completed"
    },
    "tags": []
   },
   "outputs": [],
   "source": [
    "def prediction(data_loader, model, criterion, cuda=None):\n",
    "  correct = 0\n",
    "  total = 0\n",
    "  losses = 0\n",
    "\n",
    "  for i, (images, labels) in enumerate(data_loader):\n",
    "    if cuda is not None:\n",
    "      # switch tensor type to GPU\n",
    "      images = images.cuda()\n",
    "      labels = labels.cuda()\n",
    "    \n",
    "    # Flatten the images\n",
    "    #images = images.view(-1, input_size)\n",
    "    \n",
    "    outputs = model(images)\n",
    "    \n",
    "    loss = criterion(outputs, labels)\n",
    "  \n",
    "    _, predictions = torch.max(outputs, dim=1)\n",
    "  \n",
    "    correct += torch.sum(labels == predictions).item()\n",
    "    total += labels.shape[0]\n",
    "    \n",
    "    losses += loss.data.item()\n",
    "    \n",
    "  return losses/len(list(data_loader)), 1 - correct/total # we need to normalize loss with respect to the number of batches "
   ]
  },
  {
   "cell_type": "markdown",
   "id": "a0486077",
   "metadata": {
    "id": "pVX9BJqdxqZT",
    "papermill": {
     "duration": 0.063215,
     "end_time": "2022-05-17T16:06:18.665015",
     "exception": false,
     "start_time": "2022-05-17T16:06:18.601800",
     "status": "completed"
    },
    "tags": []
   },
   "source": [
    "# Define a Loss function and optimizer"
   ]
  },
  {
   "cell_type": "markdown",
   "id": "66e4262e",
   "metadata": {
    "id": "TuF96yATiWir",
    "papermill": {
     "duration": 0.062546,
     "end_time": "2022-05-17T16:06:18.790655",
     "exception": false,
     "start_time": "2022-05-17T16:06:18.728109",
     "status": "completed"
    },
    "tags": []
   },
   "source": [
    "* **Learning rate scheduling**: Learning rate scheduler -> change the learning rate after every batch of training. \"One Cycle Learning Rate Policy\" -> starting with a low learning rate, gradually increasing it batch-by-batch to a high learning rate for about 30% epochs, then gradually decreasing it to a very low value for the remaining epochs.\n",
    "* **Weight decay**: Regularization technique to prevent the weights from becoming too large by adding an additional term to the loss function\n",
    "* **Gradient clipping**: it's helpful to limit the values of gradients to a small range to prevent undesirable changes in parameters due to large gradient values. "
   ]
  },
  {
   "cell_type": "markdown",
   "id": "6b73cea8",
   "metadata": {
    "id": "gUgZt1Ks3ih0",
    "papermill": {
     "duration": 0.062984,
     "end_time": "2022-05-17T16:06:18.916609",
     "exception": false,
     "start_time": "2022-05-17T16:06:18.853625",
     "status": "completed"
    },
    "tags": []
   },
   "source": [
    "## Fit one cycle"
   ]
  },
  {
   "cell_type": "code",
   "execution_count": 35,
   "id": "cb8b129a",
   "metadata": {
    "execution": {
     "iopub.execute_input": "2022-05-17T16:06:19.045635Z",
     "iopub.status.busy": "2022-05-17T16:06:19.044953Z",
     "iopub.status.idle": "2022-05-17T16:06:19.048987Z",
     "shell.execute_reply": "2022-05-17T16:06:19.048248Z"
    },
    "id": "Bw5J3ttgrBKO",
    "papermill": {
     "duration": 0.071126,
     "end_time": "2022-05-17T16:06:19.050644",
     "exception": false,
     "start_time": "2022-05-17T16:06:18.979518",
     "status": "completed"
    },
    "tags": []
   },
   "outputs": [],
   "source": [
    "def get_lr(optimizer):\n",
    "  for param_group in optimizer.param_groups:\n",
    "    return param_group['lr']\n"
   ]
  },
  {
   "cell_type": "code",
   "execution_count": 36,
   "id": "a4909a38",
   "metadata": {
    "execution": {
     "iopub.execute_input": "2022-05-17T16:06:19.178524Z",
     "iopub.status.busy": "2022-05-17T16:06:19.178282Z",
     "iopub.status.idle": "2022-05-17T16:06:19.192383Z",
     "shell.execute_reply": "2022-05-17T16:06:19.191721Z"
    },
    "id": "kR4YKMbfsq9q",
    "papermill": {
     "duration": 0.080269,
     "end_time": "2022-05-17T16:06:19.194051",
     "exception": false,
     "start_time": "2022-05-17T16:06:19.113782",
     "status": "completed"
    },
    "tags": []
   },
   "outputs": [],
   "source": [
    "# define a fit_one_cycle function to incorporate learning rate scheduling, weight decay and gradient clipping\n",
    "def fit_one_cycle(epochs, max_lr, model, train_loader, val_loader, criterion,\n",
    "                  weight_decay=0, grad_clip=None, opt_func=torch.optim.SGD, cuda=None):\n",
    "  torch.cuda.empty_cache() # release all unoccupied cached memory\n",
    "  history = []\n",
    "\n",
    "  # Set up custom optimizer with weight decay\n",
    "  optimizer = opt_func(model.parameters(), max_lr, weight_decay=weight_decay)\n",
    "  # Set up one-cycle learning rate scheduler\n",
    "  sched = torch.optim.lr_scheduler.OneCycleLR(optimizer, max_lr, epochs=epochs,\n",
    "                                              steps_per_epoch=len(train_loader))\n",
    "  \n",
    "  if cuda is not None:\n",
    "    model.cuda() # send model to device\n",
    "\n",
    "  train_losses = []\n",
    "  test_losses = []\n",
    "\n",
    "  train_error_rates = []\n",
    "  test_error_rates = []\n",
    "\n",
    "  # Loop through all epochs\n",
    "  for epoch in range(epochs):\n",
    "    train_loss = 0\n",
    "    n_iter = 0\n",
    "    total = 0\n",
    "    correct = 0\n",
    "    lrs = []\n",
    "\n",
    "    # Training phase\n",
    "    for i, (images, labels) in enumerate(train_loader):\n",
    "      optimizer.zero_grad() # zero gradients out before computing others\n",
    "\n",
    "      if cuda is not None:\n",
    "        images = images.cuda()\n",
    "        labels = labels.cuda()\n",
    "\n",
    "      #images = images.view(-1, input_size) # Flatten input image\n",
    "      # dont need in this case since it's CNN model\n",
    "      outputs = model(images) \n",
    "\n",
    "      # compute the train_error rates\n",
    "      # torch.max(input, dim) ->\n",
    "      # returns the maximum value of all elements in the input tensor\n",
    "      _, predictions = torch.max(outputs, 1) \n",
    "      correct += torch.sum(labels == predictions).item()\n",
    "      total += labels.shape[0]\n",
    "\n",
    "      # compute loss\n",
    "      loss = criterion(outputs, labels)\n",
    "      # compute gradients\n",
    "      loss.backward()\n",
    "\n",
    "      # Gradient clipping:\n",
    "      if grad_clip is not None:\n",
    "        nn.utils.clip_grad_value_(model.parameters(), grad_clip)\n",
    "\n",
    "      # update weights/parameters\n",
    "      optimizer.step()\n",
    "\n",
    "      # record and update learning rate\n",
    "      lrs.append(get_lr(optimizer))\n",
    "      sched.step()\n",
    "\n",
    "      train_loss += loss.detach().item()\n",
    "\n",
    "      n_iter += 1\n",
    "    \n",
    "    train_error_rate = 1 - correct/total\n",
    "\n",
    "    # Validation phase\n",
    "    with torch.no_grad():\n",
    "      test_loss, test_error_rate = prediction(val_loader, model, criterion, cuda)\n",
    "\n",
    "    train_error_rates.append(train_error_rate)\n",
    "    test_error_rates.append(test_error_rate)\n",
    "    train_losses.append(train_loss/n_iter)\n",
    "    test_losses.append(test_loss)\n",
    "    results ={'train_loss': train_loss/n_iter,'val_loss': test_loss, 'val_acc': (1-train_error_rate)*100}\n",
    "    results['lrs'] = lrs\n",
    "    history.append(results)\n",
    "\n",
    "    if epoch%1 == 0:\n",
    "      print('Epoch: {}/{}, last_lr: {:.5f}, train_loss: {:.4f}, val_loss: {:.4f}, val_accuracy: {:.1f}%'.format(epoch+1, epochs, results['lrs'][-1], train_loss/n_iter, test_loss, (1-train_error_rate)*100))\n",
    "\n",
    "  return history\n",
    "    \n",
    "    "
   ]
  },
  {
   "cell_type": "markdown",
   "id": "3dab36c1",
   "metadata": {
    "id": "DICmoSrRzd55",
    "papermill": {
     "duration": 0.063213,
     "end_time": "2022-05-17T16:06:19.320291",
     "exception": false,
     "start_time": "2022-05-17T16:06:19.257078",
     "status": "completed"
    },
    "tags": []
   },
   "source": [
    "# Train the networks"
   ]
  },
  {
   "cell_type": "markdown",
   "id": "62ae579b",
   "metadata": {
    "id": "w7evzBOQz509",
    "papermill": {
     "duration": 0.062982,
     "end_time": "2022-05-17T16:06:19.446913",
     "exception": false,
     "start_time": "2022-05-17T16:06:19.383931",
     "status": "completed"
    },
    "tags": []
   },
   "source": [
    "## Train with lr_scheduler\n"
   ]
  },
  {
   "cell_type": "markdown",
   "id": "aca35ac9",
   "metadata": {
    "papermill": {
     "duration": 0.064808,
     "end_time": "2022-05-17T16:06:19.576259",
     "exception": false,
     "start_time": "2022-05-17T16:06:19.511451",
     "status": "completed"
    },
    "tags": []
   },
   "source": [
    "### Optimizer and loss function"
   ]
  },
  {
   "cell_type": "code",
   "execution_count": 37,
   "id": "8cf52e1a",
   "metadata": {
    "execution": {
     "iopub.execute_input": "2022-05-17T16:06:19.704622Z",
     "iopub.status.busy": "2022-05-17T16:06:19.704345Z",
     "iopub.status.idle": "2022-05-17T16:06:19.708498Z",
     "shell.execute_reply": "2022-05-17T16:06:19.707841Z"
    },
    "papermill": {
     "duration": 0.070702,
     "end_time": "2022-05-17T16:06:19.710173",
     "exception": false,
     "start_time": "2022-05-17T16:06:19.639471",
     "status": "completed"
    },
    "tags": []
   },
   "outputs": [],
   "source": [
    "epochs = 20\n",
    "max_lr = 0.01\n",
    "grad_clip = 0.1\n",
    "weight_decay = 1e-4\n",
    "opt_func = torch.optim.Adam\n",
    "criterion = nn.CrossEntropyLoss()"
   ]
  },
  {
   "cell_type": "markdown",
   "id": "60f83537",
   "metadata": {
    "papermill": {
     "duration": 0.062697,
     "end_time": "2022-05-17T16:06:19.836115",
     "exception": false,
     "start_time": "2022-05-17T16:06:19.773418",
     "status": "completed"
    },
    "tags": []
   },
   "source": [
    "### MLP"
   ]
  },
  {
   "cell_type": "code",
   "execution_count": 38,
   "id": "75fde665",
   "metadata": {
    "execution": {
     "iopub.execute_input": "2022-05-17T16:06:19.964130Z",
     "iopub.status.busy": "2022-05-17T16:06:19.963396Z",
     "iopub.status.idle": "2022-05-17T16:12:27.705246Z",
     "shell.execute_reply": "2022-05-17T16:12:27.704357Z"
    },
    "papermill": {
     "duration": 367.884375,
     "end_time": "2022-05-17T16:12:27.783417",
     "exception": false,
     "start_time": "2022-05-17T16:06:19.899042",
     "status": "completed"
    },
    "tags": []
   },
   "outputs": [
    {
     "name": "stdout",
     "output_type": "stream",
     "text": [
      "Epoch: 1/20, last_lr: 0.00104, train_loss: 1.7185, val_loss: 1.6023, val_accuracy: 39.0%\n",
      "Epoch: 2/20, last_lr: 0.00280, train_loss: 1.6179, val_loss: 1.6590, val_accuracy: 43.0%\n",
      "Epoch: 3/20, last_lr: 0.00520, train_loss: 1.7502, val_loss: 1.7659, val_accuracy: 38.4%\n",
      "Epoch: 4/20, last_lr: 0.00760, train_loss: 1.8998, val_loss: 1.9859, val_accuracy: 32.4%\n",
      "Epoch: 5/20, last_lr: 0.00936, train_loss: 2.0844, val_loss: 2.2138, val_accuracy: 22.6%\n",
      "Epoch: 6/20, last_lr: 0.01000, train_loss: 2.2257, val_loss: 2.2120, val_accuracy: 15.0%\n",
      "Epoch: 7/20, last_lr: 0.00987, train_loss: 2.2880, val_loss: 2.2597, val_accuracy: 13.0%\n",
      "Epoch: 8/20, last_lr: 0.00950, train_loss: 2.3379, val_loss: 2.3033, val_accuracy: 10.6%\n",
      "Epoch: 9/20, last_lr: 0.00891, train_loss: 2.3031, val_loss: 2.3037, val_accuracy: 10.0%\n",
      "Epoch: 10/20, last_lr: 0.00812, train_loss: 2.3045, val_loss: 2.3032, val_accuracy: 10.1%\n",
      "Epoch: 11/20, last_lr: 0.00717, train_loss: 2.3182, val_loss: 2.2953, val_accuracy: 10.1%\n",
      "Epoch: 12/20, last_lr: 0.00611, train_loss: 2.2811, val_loss: 2.3040, val_accuracy: 12.4%\n",
      "Epoch: 13/20, last_lr: 0.00500, train_loss: 2.2982, val_loss: 2.2847, val_accuracy: 10.7%\n",
      "Epoch: 14/20, last_lr: 0.00389, train_loss: 2.2310, val_loss: 2.2008, val_accuracy: 14.8%\n",
      "Epoch: 15/20, last_lr: 0.00283, train_loss: 2.1860, val_loss: 2.1519, val_accuracy: 16.1%\n",
      "Epoch: 16/20, last_lr: 0.00188, train_loss: 2.1647, val_loss: 2.1269, val_accuracy: 16.5%\n",
      "Epoch: 17/20, last_lr: 0.00109, train_loss: 2.0764, val_loss: 1.9644, val_accuracy: 21.3%\n",
      "Epoch: 18/20, last_lr: 0.00050, train_loss: 1.8726, val_loss: 1.7989, val_accuracy: 29.6%\n",
      "Epoch: 19/20, last_lr: 0.00013, train_loss: 1.7440, val_loss: 1.6990, val_accuracy: 35.2%\n",
      "Epoch: 20/20, last_lr: 0.00000, train_loss: 1.6680, val_loss: 1.6819, val_accuracy: 38.4%\n"
     ]
    }
   ],
   "source": [
    "history_mlp = fit_one_cycle(epochs, max_lr, mlp_model, train_loader, test_loader, criterion, weight_decay, opt_func=opt_func, cuda=cuda  )"
   ]
  },
  {
   "cell_type": "code",
   "execution_count": 39,
   "id": "a241745c",
   "metadata": {
    "execution": {
     "iopub.execute_input": "2022-05-17T16:12:27.937255Z",
     "iopub.status.busy": "2022-05-17T16:12:27.936969Z",
     "iopub.status.idle": "2022-05-17T16:12:27.956656Z",
     "shell.execute_reply": "2022-05-17T16:12:27.955933Z"
    },
    "papermill": {
     "duration": 0.098447,
     "end_time": "2022-05-17T16:12:27.958630",
     "exception": false,
     "start_time": "2022-05-17T16:12:27.860183",
     "status": "completed"
    },
    "tags": []
   },
   "outputs": [],
   "source": [
    "# Save model\n",
    "PATH_MLP = './mlp_cifar_net.pth'\n",
    "torch.save(mlp_model.state_dict(), PATH_MLP)"
   ]
  },
  {
   "cell_type": "markdown",
   "id": "90f83a7d",
   "metadata": {
    "papermill": {
     "duration": 0.078777,
     "end_time": "2022-05-17T16:12:28.114166",
     "exception": false,
     "start_time": "2022-05-17T16:12:28.035389",
     "status": "completed"
    },
    "tags": []
   },
   "source": [
    "### CNN"
   ]
  },
  {
   "cell_type": "code",
   "execution_count": 40,
   "id": "3f8b41d0",
   "metadata": {
    "execution": {
     "iopub.execute_input": "2022-05-17T16:12:28.275468Z",
     "iopub.status.busy": "2022-05-17T16:12:28.275204Z",
     "iopub.status.idle": "2022-05-17T16:21:07.200225Z",
     "shell.execute_reply": "2022-05-17T16:21:07.199343Z"
    },
    "papermill": {
     "duration": 519.007479,
     "end_time": "2022-05-17T16:21:07.202122",
     "exception": false,
     "start_time": "2022-05-17T16:12:28.194643",
     "status": "completed"
    },
    "tags": []
   },
   "outputs": [
    {
     "name": "stdout",
     "output_type": "stream",
     "text": [
      "Epoch: 1/20, last_lr: 0.00104, train_loss: 1.3170, val_loss: 1.0818, val_accuracy: 53.0%\n",
      "Epoch: 2/20, last_lr: 0.00280, train_loss: 0.9799, val_loss: 1.0016, val_accuracy: 65.5%\n",
      "Epoch: 3/20, last_lr: 0.00520, train_loss: 0.8999, val_loss: 0.9167, val_accuracy: 68.5%\n",
      "Epoch: 4/20, last_lr: 0.00760, train_loss: 0.8316, val_loss: 0.9425, val_accuracy: 71.2%\n",
      "Epoch: 5/20, last_lr: 0.00936, train_loss: 0.8073, val_loss: 0.9413, val_accuracy: 72.0%\n",
      "Epoch: 6/20, last_lr: 0.01000, train_loss: 0.7796, val_loss: 0.9427, val_accuracy: 72.8%\n",
      "Epoch: 7/20, last_lr: 0.00987, train_loss: 0.7643, val_loss: 0.9537, val_accuracy: 73.7%\n",
      "Epoch: 8/20, last_lr: 0.00950, train_loss: 0.7449, val_loss: 0.8805, val_accuracy: 74.1%\n",
      "Epoch: 9/20, last_lr: 0.00891, train_loss: 0.7151, val_loss: 0.8548, val_accuracy: 75.3%\n",
      "Epoch: 10/20, last_lr: 0.00812, train_loss: 0.6753, val_loss: 0.8174, val_accuracy: 76.6%\n",
      "Epoch: 11/20, last_lr: 0.00717, train_loss: 0.6285, val_loss: 0.8435, val_accuracy: 78.2%\n",
      "Epoch: 12/20, last_lr: 0.00611, train_loss: 0.5619, val_loss: 0.8991, val_accuracy: 80.3%\n",
      "Epoch: 13/20, last_lr: 0.00500, train_loss: 0.4849, val_loss: 0.8461, val_accuracy: 83.0%\n",
      "Epoch: 14/20, last_lr: 0.00389, train_loss: 0.3920, val_loss: 0.8162, val_accuracy: 86.2%\n",
      "Epoch: 15/20, last_lr: 0.00283, train_loss: 0.2800, val_loss: 0.8901, val_accuracy: 90.4%\n",
      "Epoch: 16/20, last_lr: 0.00188, train_loss: 0.1712, val_loss: 0.9701, val_accuracy: 94.2%\n",
      "Epoch: 17/20, last_lr: 0.00109, train_loss: 0.0860, val_loss: 1.0715, val_accuracy: 97.5%\n",
      "Epoch: 18/20, last_lr: 0.00050, train_loss: 0.0365, val_loss: 1.1390, val_accuracy: 99.3%\n",
      "Epoch: 19/20, last_lr: 0.00013, train_loss: 0.0186, val_loss: 1.1704, val_accuracy: 99.8%\n",
      "Epoch: 20/20, last_lr: 0.00000, train_loss: 0.0138, val_loss: 1.1850, val_accuracy: 99.9%\n"
     ]
    }
   ],
   "source": [
    "history_cnn = fit_one_cycle(epochs, max_lr, cnn_model, train_loader, test_loader, criterion, weight_decay, opt_func=opt_func, cuda=cuda  )"
   ]
  },
  {
   "cell_type": "code",
   "execution_count": 41,
   "id": "89806825",
   "metadata": {
    "execution": {
     "iopub.execute_input": "2022-05-17T16:21:07.356747Z",
     "iopub.status.busy": "2022-05-17T16:21:07.355960Z",
     "iopub.status.idle": "2022-05-17T16:21:07.370471Z",
     "shell.execute_reply": "2022-05-17T16:21:07.369792Z"
    },
    "papermill": {
     "duration": 0.093386,
     "end_time": "2022-05-17T16:21:07.372255",
     "exception": false,
     "start_time": "2022-05-17T16:21:07.278869",
     "status": "completed"
    },
    "tags": []
   },
   "outputs": [],
   "source": [
    "# Save model\n",
    "PATH_CNN = './cnn_cifar_net.pth'\n",
    "torch.save(cnn_model.state_dict(), PATH_CNN)"
   ]
  },
  {
   "cell_type": "markdown",
   "id": "12507e49",
   "metadata": {
    "papermill": {
     "duration": 0.075586,
     "end_time": "2022-05-17T16:21:07.523990",
     "exception": false,
     "start_time": "2022-05-17T16:21:07.448404",
     "status": "completed"
    },
    "tags": []
   },
   "source": [
    "### ResNet9"
   ]
  },
  {
   "cell_type": "code",
   "execution_count": 42,
   "id": "ff5b4d19",
   "metadata": {
    "execution": {
     "iopub.execute_input": "2022-05-17T16:21:07.677081Z",
     "iopub.status.busy": "2022-05-17T16:21:07.676522Z",
     "iopub.status.idle": "2022-05-17T16:33:07.484275Z",
     "shell.execute_reply": "2022-05-17T16:33:07.483592Z"
    },
    "id": "OVv2nykj0Dft",
    "outputId": "f217f397-5be0-41fb-d021-fd659e621eda",
    "papermill": {
     "duration": 720.009471,
     "end_time": "2022-05-17T16:33:07.609084",
     "exception": false,
     "start_time": "2022-05-17T16:21:07.599613",
     "status": "completed"
    },
    "tags": []
   },
   "outputs": [
    {
     "name": "stdout",
     "output_type": "stream",
     "text": [
      "Epoch: 1/20, last_lr: 0.00104, train_loss: 1.0949, val_loss: 0.8055, val_accuracy: 61.2%\n",
      "Epoch: 2/20, last_lr: 0.00280, train_loss: 0.7644, val_loss: 0.8378, val_accuracy: 73.7%\n",
      "Epoch: 3/20, last_lr: 0.00520, train_loss: 0.7281, val_loss: 0.8371, val_accuracy: 75.6%\n",
      "Epoch: 4/20, last_lr: 0.00760, train_loss: 0.7122, val_loss: 0.9108, val_accuracy: 76.1%\n",
      "Epoch: 5/20, last_lr: 0.00936, train_loss: 0.6971, val_loss: 0.7616, val_accuracy: 76.4%\n",
      "Epoch: 6/20, last_lr: 0.01000, train_loss: 0.6794, val_loss: 0.7574, val_accuracy: 76.8%\n",
      "Epoch: 7/20, last_lr: 0.00987, train_loss: 0.6708, val_loss: 0.6778, val_accuracy: 77.2%\n",
      "Epoch: 8/20, last_lr: 0.00950, train_loss: 0.6427, val_loss: 0.6819, val_accuracy: 78.0%\n",
      "Epoch: 9/20, last_lr: 0.00891, train_loss: 0.6082, val_loss: 0.6576, val_accuracy: 79.3%\n",
      "Epoch: 10/20, last_lr: 0.00812, train_loss: 0.5719, val_loss: 0.6686, val_accuracy: 80.5%\n",
      "Epoch: 11/20, last_lr: 0.00717, train_loss: 0.5176, val_loss: 0.6011, val_accuracy: 82.2%\n",
      "Epoch: 12/20, last_lr: 0.00611, train_loss: 0.4673, val_loss: 0.5627, val_accuracy: 83.9%\n",
      "Epoch: 13/20, last_lr: 0.00500, train_loss: 0.4200, val_loss: 0.5336, val_accuracy: 85.7%\n",
      "Epoch: 14/20, last_lr: 0.00389, train_loss: 0.3518, val_loss: 0.5256, val_accuracy: 87.8%\n",
      "Epoch: 15/20, last_lr: 0.00283, train_loss: 0.2734, val_loss: 0.4908, val_accuracy: 90.6%\n",
      "Epoch: 16/20, last_lr: 0.00188, train_loss: 0.1885, val_loss: 0.4868, val_accuracy: 93.4%\n",
      "Epoch: 17/20, last_lr: 0.00109, train_loss: 0.1041, val_loss: 0.5313, val_accuracy: 96.6%\n",
      "Epoch: 18/20, last_lr: 0.00050, train_loss: 0.0452, val_loss: 0.5617, val_accuracy: 98.7%\n",
      "Epoch: 19/20, last_lr: 0.00013, train_loss: 0.0202, val_loss: 0.5724, val_accuracy: 99.7%\n",
      "Epoch: 20/20, last_lr: 0.00000, train_loss: 0.0134, val_loss: 0.5756, val_accuracy: 99.9%\n"
     ]
    }
   ],
   "source": [
    "history_resnet = fit_one_cycle(epochs, max_lr, resnet_model, train_loader, test_loader, criterion, weight_decay, opt_func=opt_func, cuda=cuda  )"
   ]
  },
  {
   "cell_type": "code",
   "execution_count": 43,
   "id": "62263323",
   "metadata": {
    "execution": {
     "iopub.execute_input": "2022-05-17T16:33:07.774219Z",
     "iopub.status.busy": "2022-05-17T16:33:07.773971Z",
     "iopub.status.idle": "2022-05-17T16:33:07.823090Z",
     "shell.execute_reply": "2022-05-17T16:33:07.822296Z"
    },
    "id": "mlJFggKN96nk",
    "papermill": {
     "duration": 0.13309,
     "end_time": "2022-05-17T16:33:07.825267",
     "exception": false,
     "start_time": "2022-05-17T16:33:07.692177",
     "status": "completed"
    },
    "tags": []
   },
   "outputs": [],
   "source": [
    "PATH_RESNET = './rescnn_cifar_lr_net.pth'\n",
    "torch.save(resnet_model.state_dict(), PATH_RESNET)"
   ]
  },
  {
   "cell_type": "markdown",
   "id": "618ec81f",
   "metadata": {
    "id": "zFO2kHnBKqgf",
    "papermill": {
     "duration": 0.080278,
     "end_time": "2022-05-17T16:33:07.986114",
     "exception": false,
     "start_time": "2022-05-17T16:33:07.905836",
     "status": "completed"
    },
    "tags": []
   },
   "source": [
    "# Evaluate the network"
   ]
  },
  {
   "cell_type": "code",
   "execution_count": 44,
   "id": "a76495d1",
   "metadata": {
    "execution": {
     "iopub.execute_input": "2022-05-17T16:33:08.164816Z",
     "iopub.status.busy": "2022-05-17T16:33:08.164563Z",
     "iopub.status.idle": "2022-05-17T16:33:08.169210Z",
     "shell.execute_reply": "2022-05-17T16:33:08.168510Z"
    },
    "id": "244mIwc83EnX",
    "papermill": {
     "duration": 0.096771,
     "end_time": "2022-05-17T16:33:08.171172",
     "exception": false,
     "start_time": "2022-05-17T16:33:08.074401",
     "status": "completed"
    },
    "tags": []
   },
   "outputs": [],
   "source": [
    "def plot_accuracies(history):\n",
    "    accuracies = [x['val_acc'] for x in history]\n",
    "    \n",
    "    plt.plot(accuracies, '-x')\n",
    "    plt.xlabel('epoch')\n",
    "    plt.ylabel('accuracy')\n",
    "    plt.title('Accuracy vs. No. of epochs');"
   ]
  },
  {
   "cell_type": "code",
   "execution_count": 45,
   "id": "b86709e9",
   "metadata": {
    "execution": {
     "iopub.execute_input": "2022-05-17T16:33:08.347997Z",
     "iopub.status.busy": "2022-05-17T16:33:08.347746Z",
     "iopub.status.idle": "2022-05-17T16:33:08.353478Z",
     "shell.execute_reply": "2022-05-17T16:33:08.352793Z"
    },
    "id": "WicCyw6qBRyu",
    "papermill": {
     "duration": 0.096309,
     "end_time": "2022-05-17T16:33:08.355155",
     "exception": false,
     "start_time": "2022-05-17T16:33:08.258846",
     "status": "completed"
    },
    "tags": []
   },
   "outputs": [],
   "source": [
    "def plot_losses(history):\n",
    "  #plt.figure(figsize=(10, 8))\n",
    "  #plt.subplot(1,2,1)\n",
    "  train_losses = [x.get('train_loss') for x in history]\n",
    "  test_losses = [x['val_loss'] for x in history]\n",
    "  plt.plot(train_losses, label='train', marker='o', alpha=0.7)\n",
    "  plt.plot(test_losses, label='test', marker='o', alpha=0.7)\n",
    "  plt.xlabel(\"Epoch\")\n",
    "  plt.ylabel(\"Loss\")\n",
    "  plt.grid(True)\n",
    "  plt.legend()\n",
    "  plt.title('Model Loss')"
   ]
  },
  {
   "cell_type": "code",
   "execution_count": 46,
   "id": "cb29cb17",
   "metadata": {
    "execution": {
     "iopub.execute_input": "2022-05-17T16:33:08.519977Z",
     "iopub.status.busy": "2022-05-17T16:33:08.519422Z",
     "iopub.status.idle": "2022-05-17T16:33:08.910430Z",
     "shell.execute_reply": "2022-05-17T16:33:08.909762Z"
    },
    "papermill": {
     "duration": 0.474898,
     "end_time": "2022-05-17T16:33:08.912748",
     "exception": false,
     "start_time": "2022-05-17T16:33:08.437850",
     "status": "completed"
    },
    "tags": []
   },
   "outputs": [
    {
     "data": {
      "text/plain": [
       "Text(0.5, 1.0, 'ResNet9')"
      ]
     },
     "execution_count": 46,
     "metadata": {},
     "output_type": "execute_result"
    },
    {
     "data": {
      "image/png": "[encoded data removed]",
      "text/plain": [
       "<Figure size 720x576 with 3 Axes>"
      ]
     },
     "metadata": {
      "needs_background": "light"
     },
     "output_type": "display_data"
    }
   ],
   "source": [
    "plt.figure(figsize=(10, 8))\n",
    "plt.subplot(1,3,1)\n",
    "plot_losses(history_mlp)\n",
    "plt.title('MLP')\n",
    "plt.subplot(1,3,2)\n",
    "plot_losses(history_cnn)\n",
    "plt.title('CNN')\n",
    "plt.subplot(1,3,3)\n",
    "plot_losses(history_resnet)\n",
    "plt.title('ResNet9')"
   ]
  },
  {
   "cell_type": "code",
   "execution_count": 47,
   "id": "3d5e4217",
   "metadata": {
    "execution": {
     "iopub.execute_input": "2022-05-17T16:33:09.088753Z",
     "iopub.status.busy": "2022-05-17T16:33:09.087982Z",
     "iopub.status.idle": "2022-05-17T16:33:09.642889Z",
     "shell.execute_reply": "2022-05-17T16:33:09.638323Z"
    },
    "papermill": {
     "duration": 0.649919,
     "end_time": "2022-05-17T16:33:09.645345",
     "exception": false,
     "start_time": "2022-05-17T16:33:08.995426",
     "status": "completed"
    },
    "tags": []
   },
   "outputs": [
    {
     "data": {
      "text/plain": [
       "Text(0.5, 1.0, 'ResNet9')"
      ]
     },
     "execution_count": 47,
     "metadata": {},
     "output_type": "execute_result"
    },
    {
     "data": {
      "image/png": "[encoded data removed]",
      "text/plain": [
       "<Figure size 720x576 with 3 Axes>"
      ]
     },
     "metadata": {
      "needs_background": "light"
     },
     "output_type": "display_data"
    }
   ],
   "source": [
    "plt.figure(figsize=(10, 8))\n",
    "plt.subplot(1,3,1)\n",
    "plot_accuracies(history_mlp)\n",
    "plt.title('MLP')\n",
    "plt.subplot(1,3,2)\n",
    "plot_accuracies(history_cnn)\n",
    "plt.title('CNN')\n",
    "plt.subplot(1,3,3)\n",
    "plot_accuracies(history_resnet)\n",
    "plt.title('ResNet9')"
   ]
  },
  {
   "cell_type": "markdown",
   "id": "3b6699e5",
   "metadata": {
    "id": "r_rMOEkzFuWx",
    "papermill": {
     "duration": 0.150454,
     "end_time": "2022-05-17T16:33:09.928619",
     "exception": false,
     "start_time": "2022-05-17T16:33:09.778165",
     "status": "completed"
    },
    "tags": []
   },
   "source": [
    "## Visualize the prediction"
   ]
  },
  {
   "cell_type": "code",
   "execution_count": 48,
   "id": "dc55b0f0",
   "metadata": {
    "execution": {
     "iopub.execute_input": "2022-05-17T16:33:10.215983Z",
     "iopub.status.busy": "2022-05-17T16:33:10.215675Z",
     "iopub.status.idle": "2022-05-17T16:33:10.241064Z",
     "shell.execute_reply": "2022-05-17T16:33:10.240385Z"
    },
    "id": "pflb2vlzGC5B",
    "papermill": {
     "duration": 0.168545,
     "end_time": "2022-05-17T16:33:10.243023",
     "exception": false,
     "start_time": "2022-05-17T16:33:10.074478",
     "status": "completed"
    },
    "tags": []
   },
   "outputs": [],
   "source": [
    "dataiter = iter(test_loader)\n",
    "images, labels = dataiter.next()"
   ]
  },
  {
   "cell_type": "code",
   "execution_count": 49,
   "id": "23c2e224",
   "metadata": {
    "execution": {
     "iopub.execute_input": "2022-05-17T16:33:10.525053Z",
     "iopub.status.busy": "2022-05-17T16:33:10.524513Z",
     "iopub.status.idle": "2022-05-17T16:33:10.531340Z",
     "shell.execute_reply": "2022-05-17T16:33:10.530580Z"
    },
    "id": "rOk1nCVqGD27",
    "outputId": "de4bdae4-ec66-4d8b-e5a1-c6e4b4da2e19",
    "papermill": {
     "duration": 0.149879,
     "end_time": "2022-05-17T16:33:10.533156",
     "exception": false,
     "start_time": "2022-05-17T16:33:10.383277",
     "status": "completed"
    },
    "tags": []
   },
   "outputs": [
    {
     "data": {
      "text/plain": [
       "torch.Size([64, 3, 32, 32])"
      ]
     },
     "execution_count": 49,
     "metadata": {},
     "output_type": "execute_result"
    }
   ],
   "source": [
    "images.shape"
   ]
  },
  {
   "cell_type": "code",
   "execution_count": 50,
   "id": "f2f03cad",
   "metadata": {
    "execution": {
     "iopub.execute_input": "2022-05-17T16:33:10.706201Z",
     "iopub.status.busy": "2022-05-17T16:33:10.705520Z",
     "iopub.status.idle": "2022-05-17T16:33:10.711919Z",
     "shell.execute_reply": "2022-05-17T16:33:10.711213Z"
    },
    "id": "2bS1jgMmGJbt",
    "outputId": "ed482c6d-abdb-4e73-fbd9-9f081a17511e",
    "papermill": {
     "duration": 0.094873,
     "end_time": "2022-05-17T16:33:10.713599",
     "exception": false,
     "start_time": "2022-05-17T16:33:10.618726",
     "status": "completed"
    },
    "tags": []
   },
   "outputs": [
    {
     "data": {
      "text/plain": [
       "torch.Size([64])"
      ]
     },
     "execution_count": 50,
     "metadata": {},
     "output_type": "execute_result"
    }
   ],
   "source": [
    "labels.shape"
   ]
  },
  {
   "cell_type": "code",
   "execution_count": 51,
   "id": "6c3e5e0a",
   "metadata": {
    "execution": {
     "iopub.execute_input": "2022-05-17T16:33:10.904924Z",
     "iopub.status.busy": "2022-05-17T16:33:10.904399Z",
     "iopub.status.idle": "2022-05-17T16:33:10.909070Z",
     "shell.execute_reply": "2022-05-17T16:33:10.908407Z"
    },
    "id": "FaPwOHuIGjc-",
    "papermill": {
     "duration": 0.093855,
     "end_time": "2022-05-17T16:33:10.910797",
     "exception": false,
     "start_time": "2022-05-17T16:33:10.816942",
     "status": "completed"
    },
    "tags": []
   },
   "outputs": [],
   "source": [
    "classes = ('plane', 'car', 'bird', 'cat',\n",
    "           'deer', 'dog', 'frog', 'horse', 'ship', 'truck')"
   ]
  },
  {
   "cell_type": "code",
   "execution_count": 52,
   "id": "9afa7c9f",
   "metadata": {
    "execution": {
     "iopub.execute_input": "2022-05-17T16:33:11.085207Z",
     "iopub.status.busy": "2022-05-17T16:33:11.084958Z",
     "iopub.status.idle": "2022-05-17T16:33:11.273010Z",
     "shell.execute_reply": "2022-05-17T16:33:11.272356Z"
    },
    "id": "6Oo629ZPFuBv",
    "outputId": "1f4253d9-a7a5-4b4b-a7d0-ec20b6aa2be6",
    "papermill": {
     "duration": 0.277952,
     "end_time": "2022-05-17T16:33:11.274794",
     "exception": false,
     "start_time": "2022-05-17T16:33:10.996842",
     "status": "completed"
    },
    "tags": []
   },
   "outputs": [
    {
     "name": "stdout",
     "output_type": "stream",
     "text": [
      "GroundTruth:  truck frog  car   car   truck\n"
     ]
    },
    {
     "data": {
      "image/png": "[encoded data removed]",
      "text/plain": [
       "<Figure size 432x288 with 1 Axes>"
      ]
     },
     "metadata": {
      "needs_background": "light"
     },
     "output_type": "display_data"
    }
   ],
   "source": [
    "dataiter = iter(test_loader)\n",
    "images, labels = dataiter.next()\n",
    "def imshow(img):\n",
    "    img = img / 2 + 0.5     # unnormalize\n",
    "    npimg = img.numpy()\n",
    "    plt.imshow(np.transpose(npimg, (1, 2, 0))) # tensor.permute = np.transpose\n",
    "# print images\n",
    "imshow(torchvision.utils.make_grid(images[:5]))\n",
    "print('GroundTruth: ', ' '.join(f'{classes[labels[j]]:5s}' for j in range(5)))"
   ]
  },
  {
   "cell_type": "code",
   "execution_count": 53,
   "id": "34f2b91e",
   "metadata": {
    "execution": {
     "iopub.execute_input": "2022-05-17T16:33:11.453234Z",
     "iopub.status.busy": "2022-05-17T16:33:11.452986Z",
     "iopub.status.idle": "2022-05-17T16:33:11.533936Z",
     "shell.execute_reply": "2022-05-17T16:33:11.533085Z"
    },
    "id": "CkR3iKCAYRQw",
    "papermill": {
     "duration": 0.173152,
     "end_time": "2022-05-17T16:33:11.536122",
     "exception": false,
     "start_time": "2022-05-17T16:33:11.362970",
     "status": "completed"
    },
    "tags": []
   },
   "outputs": [
    {
     "data": {
      "text/plain": [
       "<All keys matched successfully>"
      ]
     },
     "execution_count": 53,
     "metadata": {},
     "output_type": "execute_result"
    }
   ],
   "source": [
    "resnet = ResNet9(in_channels=3, n_classes=10)\n",
    "resnet.load_state_dict(torch.load(PATH_RESNET))"
   ]
  },
  {
   "cell_type": "code",
   "execution_count": 54,
   "id": "9ca89d14",
   "metadata": {
    "execution": {
     "iopub.execute_input": "2022-05-17T16:33:11.726674Z",
     "iopub.status.busy": "2022-05-17T16:33:11.726413Z",
     "iopub.status.idle": "2022-05-17T16:33:24.128096Z",
     "shell.execute_reply": "2022-05-17T16:33:24.127282Z"
    },
    "id": "sZGz-j2IG1lY",
    "papermill": {
     "duration": 12.492735,
     "end_time": "2022-05-17T16:33:24.130123",
     "exception": false,
     "start_time": "2022-05-17T16:33:11.637388",
     "status": "completed"
    },
    "tags": []
   },
   "outputs": [],
   "source": [
    "outputs = resnet(images)"
   ]
  },
  {
   "cell_type": "code",
   "execution_count": 55,
   "id": "5bf6a6f8",
   "metadata": {
    "execution": {
     "iopub.execute_input": "2022-05-17T16:33:24.325758Z",
     "iopub.status.busy": "2022-05-17T16:33:24.325015Z",
     "iopub.status.idle": "2022-05-17T16:33:24.332227Z",
     "shell.execute_reply": "2022-05-17T16:33:24.331372Z"
    },
    "id": "BkeaPeFIG8rk",
    "outputId": "53018f9c-98e8-4c19-dfa4-317b8d1f1198",
    "papermill": {
     "duration": 0.108585,
     "end_time": "2022-05-17T16:33:24.334199",
     "exception": false,
     "start_time": "2022-05-17T16:33:24.225614",
     "status": "completed"
    },
    "tags": []
   },
   "outputs": [
    {
     "name": "stdout",
     "output_type": "stream",
     "text": [
      "Predicted:  truck frog  car   car   truck\n"
     ]
    }
   ],
   "source": [
    "_, predicted = torch.max(outputs, 1)\n",
    "\n",
    "print('Predicted: ', ' '.join(f'{classes[predicted[j]]:5s}'\n",
    "                              for j in range(5)))"
   ]
  },
  {
   "cell_type": "code",
   "execution_count": null,
   "id": "224406cf",
   "metadata": {
    "id": "iSG04xFFEFsP",
    "papermill": {
     "duration": 0.093499,
     "end_time": "2022-05-17T16:33:24.525131",
     "exception": false,
     "start_time": "2022-05-17T16:33:24.431632",
     "status": "completed"
    },
    "tags": []
   },
   "outputs": [],
   "source": []
  }
 ],
 "metadata": {
  "kernelspec": {
   "display_name": "Python 3",
   "language": "python",
   "name": "python3"
  },
  "language_info": {
   "codemirror_mode": {
    "name": "ipython",
    "version": 3
   },
   "file_extension": ".py",
   "mimetype": "text/x-python",
   "name": "python",
   "nbconvert_exporter": "python",
   "pygments_lexer": "ipython3",
   "version": "3.9.12"
  },
  "papermill": {
   "default_parameters": {},
   "duration": 1679.141791,
   "end_time": "2022-05-17T16:33:26.138151",
   "environment_variables": {},
   "exception": null,
   "input_path": "__notebook__.ipynb",
   "output_path": "__notebook__.ipynb",
   "parameters": {},
   "start_time": "2022-05-17T16:05:26.996360",
   "version": "2.3.4"
  },
  "widgets": {
   "application/vnd.jupyter.widget-state+json": {
    "state": {
     "0fd3856e27be41e2b357a9ca17cfdc2d": {
      "model_module": "@jupyter-widgets/controls",
      "model_module_version": "1.5.0",
      "model_name": "FloatProgressModel",
      "state": {
       "_dom_classes": [],
       "_model_module": "@jupyter-widgets/controls",
       "_model_module_version": "1.5.0",
       "_model_name": "FloatProgressModel",
       "_view_count": null,
       "_view_module": "@jupyter-widgets/controls",
       "_view_module_version": "1.5.0",
       "_view_name": "ProgressView",
       "bar_style": "success",
       "description": "",
       "description_tooltip": null,
       "layout": "IPY_MODEL_c13a6d72b76c4736a2bfcd9b52cd3ebe",
       "max": 170498071,
       "min": 0,
       "orientation": "horizontal",
       "style": "IPY_MODEL_29231e09dd7d4ad38363734c0124de66",
       "value": 170498071
      }
     },
     "20f04091a3074d5bb570682230d83999": {
      "model_module": "@jupyter-widgets/base",
      "model_module_version": "1.2.0",
      "model_name": "LayoutModel",
      "state": {
       "_model_module": "@jupyter-widgets/base",
       "_model_module_version": "1.2.0",
       "_model_name": "LayoutModel",
       "_view_count": null,
       "_view_module": "@jupyter-widgets/base",
       "_view_module_version": "1.2.0",
       "_view_name": "LayoutView",
       "align_content": null,
       "align_items": null,
       "align_self": null,
       "border": null,
       "bottom": null,
       "display": null,
       "flex": null,
       "flex_flow": null,
       "grid_area": null,
       "grid_auto_columns": null,
       "grid_auto_flow": null,
       "grid_auto_rows": null,
       "grid_column": null,
       "grid_gap": null,
       "grid_row": null,
       "grid_template_areas": null,
       "grid_template_columns": null,
       "grid_template_rows": null,
       "height": null,
       "justify_content": null,
       "justify_items": null,
       "left": null,
       "margin": null,
       "max_height": null,
       "max_width": null,
       "min_height": null,
       "min_width": null,
       "object_fit": null,
       "object_position": null,
       "order": null,
       "overflow": null,
       "overflow_x": null,
       "overflow_y": null,
       "padding": null,
       "right": null,
       "top": null,
       "visibility": null,
       "width": null
      }
     },
     "29231e09dd7d4ad38363734c0124de66": {
      "model_module": "@jupyter-widgets/controls",
      "model_module_version": "1.5.0",
      "model_name": "ProgressStyleModel",
      "state": {
       "_model_module": "@jupyter-widgets/controls",
       "_model_module_version": "1.5.0",
       "_model_name": "ProgressStyleModel",
       "_view_count": null,
       "_view_module": "@jupyter-widgets/base",
       "_view_module_version": "1.2.0",
       "_view_name": "StyleView",
       "bar_color": null,
       "description_width": ""
      }
     },
     "4d0580977314420b9386cd1f264eac6b": {
      "model_module": "@jupyter-widgets/controls",
      "model_module_version": "1.5.0",
      "model_name": "HBoxModel",
      "state": {
       "_dom_classes": [],
       "_model_module": "@jupyter-widgets/controls",
       "_model_module_version": "1.5.0",
       "_model_name": "HBoxModel",
       "_view_count": null,
       "_view_module": "@jupyter-widgets/controls",
       "_view_module_version": "1.5.0",
       "_view_name": "HBoxView",
       "box_style": "",
       "children": [
        "IPY_MODEL_7305dd10bca540df9098435c17241c89",
        "IPY_MODEL_0fd3856e27be41e2b357a9ca17cfdc2d",
        "IPY_MODEL_6a230df7138342c1bfa0598689422ae0"
       ],
       "layout": "IPY_MODEL_e641920088e3487c9c6ba3b57b0ea310"
      }
     },
     "6a230df7138342c1bfa0598689422ae0": {
      "model_module": "@jupyter-widgets/controls",
      "model_module_version": "1.5.0",
      "model_name": "HTMLModel",
      "state": {
       "_dom_classes": [],
       "_model_module": "@jupyter-widgets/controls",
       "_model_module_version": "1.5.0",
       "_model_name": "HTMLModel",
       "_view_count": null,
       "_view_module": "@jupyter-widgets/controls",
       "_view_module_version": "1.5.0",
       "_view_name": "HTMLView",
       "description": "",
       "description_tooltip": null,
       "layout": "IPY_MODEL_8261f9e16fe34d47a7beaed760997219",
       "placeholder": "​",
       "style": "IPY_MODEL_ffa3bc87a6d54a5c9d090f86b6542fce",
       "value": " 170499072/? [00:03&lt;00:00, 55603669.03it/s]"
      }
     },
     "7305dd10bca540df9098435c17241c89": {
      "model_module": "@jupyter-widgets/controls",
      "model_module_version": "1.5.0",
      "model_name": "HTMLModel",
      "state": {
       "_dom_classes": [],
       "_model_module": "@jupyter-widgets/controls",
       "_model_module_version": "1.5.0",
       "_model_name": "HTMLModel",
       "_view_count": null,
       "_view_module": "@jupyter-widgets/controls",
       "_view_module_version": "1.5.0",
       "_view_name": "HTMLView",
       "description": "",
       "description_tooltip": null,
       "layout": "IPY_MODEL_20f04091a3074d5bb570682230d83999",
       "placeholder": "​",
       "style": "IPY_MODEL_d8abd17d575b42e0b890bb2b8084e768",
       "value": ""
      }
     },
     "8261f9e16fe34d47a7beaed760997219": {
      "model_module": "@jupyter-widgets/base",
      "model_module_version": "1.2.0",
      "model_name": "LayoutModel",
      "state": {
       "_model_module": "@jupyter-widgets/base",
       "_model_module_version": "1.2.0",
       "_model_name": "LayoutModel",
       "_view_count": null,
       "_view_module": "@jupyter-widgets/base",
       "_view_module_version": "1.2.0",
       "_view_name": "LayoutView",
       "align_content": null,
       "align_items": null,
       "align_self": null,
       "border": null,
       "bottom": null,
       "display": null,
       "flex": null,
       "flex_flow": null,
       "grid_area": null,
       "grid_auto_columns": null,
       "grid_auto_flow": null,
       "grid_auto_rows": null,
       "grid_column": null,
       "grid_gap": null,
       "grid_row": null,
       "grid_template_areas": null,
       "grid_template_columns": null,
       "grid_template_rows": null,
       "height": null,
       "justify_content": null,
       "justify_items": null,
       "left": null,
       "margin": null,
       "max_height": null,
       "max_width": null,
       "min_height": null,
       "min_width": null,
       "object_fit": null,
       "object_position": null,
       "order": null,
       "overflow": null,
       "overflow_x": null,
       "overflow_y": null,
       "padding": null,
       "right": null,
       "top": null,
       "visibility": null,
       "width": null
      }
     },
     "c13a6d72b76c4736a2bfcd9b52cd3ebe": {
      "model_module": "@jupyter-widgets/base",
      "model_module_version": "1.2.0",
      "model_name": "LayoutModel",
      "state": {
       "_model_module": "@jupyter-widgets/base",
       "_model_module_version": "1.2.0",
       "_model_name": "LayoutModel",
       "_view_count": null,
       "_view_module": "@jupyter-widgets/base",
       "_view_module_version": "1.2.0",
       "_view_name": "LayoutView",
       "align_content": null,
       "align_items": null,
       "align_self": null,
       "border": null,
       "bottom": null,
       "display": null,
       "flex": null,
       "flex_flow": null,
       "grid_area": null,
       "grid_auto_columns": null,
       "grid_auto_flow": null,
       "grid_auto_rows": null,
       "grid_column": null,
       "grid_gap": null,
       "grid_row": null,
       "grid_template_areas": null,
       "grid_template_columns": null,
       "grid_template_rows": null,
       "height": null,
       "justify_content": null,
       "justify_items": null,
       "left": null,
       "margin": null,
       "max_height": null,
       "max_width": null,
       "min_height": null,
       "min_width": null,
       "object_fit": null,
       "object_position": null,
       "order": null,
       "overflow": null,
       "overflow_x": null,
       "overflow_y": null,
       "padding": null,
       "right": null,
       "top": null,
       "visibility": null,
       "width": null
      }
     },
     "d8abd17d575b42e0b890bb2b8084e768": {
      "model_module": "@jupyter-widgets/controls",
      "model_module_version": "1.5.0",
      "model_name": "DescriptionStyleModel",
      "state": {
       "_model_module": "@jupyter-widgets/controls",
       "_model_module_version": "1.5.0",
       "_model_name": "DescriptionStyleModel",
       "_view_count": null,
       "_view_module": "@jupyter-widgets/base",
       "_view_module_version": "1.2.0",
       "_view_name": "StyleView",
       "description_width": ""
      }
     },
     "e641920088e3487c9c6ba3b57b0ea310": {
      "model_module": "@jupyter-widgets/base",
      "model_module_version": "1.2.0",
      "model_name": "LayoutModel",
      "state": {
       "_model_module": "@jupyter-widgets/base",
       "_model_module_version": "1.2.0",
       "_model_name": "LayoutModel",
       "_view_count": null,
       "_view_module": "@jupyter-widgets/base",
       "_view_module_version": "1.2.0",
       "_view_name": "LayoutView",
       "align_content": null,
       "align_items": null,
       "align_self": null,
       "border": null,
       "bottom": null,
       "display": null,
       "flex": null,
       "flex_flow": null,
       "grid_area": null,
       "grid_auto_columns": null,
       "grid_auto_flow": null,
       "grid_auto_rows": null,
       "grid_column": null,
       "grid_gap": null,
       "grid_row": null,
       "grid_template_areas": null,
       "grid_template_columns": null,
       "grid_template_rows": null,
       "height": null,
       "justify_content": null,
       "justify_items": null,
       "left": null,
       "margin": null,
       "max_height": null,
       "max_width": null,
       "min_height": null,
       "min_width": null,
       "object_fit": null,
       "object_position": null,
       "order": null,
       "overflow": null,
       "overflow_x": null,
       "overflow_y": null,
       "padding": null,
       "right": null,
       "top": null,
       "visibility": null,
       "width": null
      }
     },
     "ffa3bc87a6d54a5c9d090f86b6542fce": {
      "model_module": "@jupyter-widgets/controls",
      "model_module_version": "1.5.0",
      "model_name": "DescriptionStyleModel",
      "state": {
       "_model_module": "@jupyter-widgets/controls",
       "_model_module_version": "1.5.0",
       "_model_name": "DescriptionStyleModel",
       "_view_count": null,
       "_view_module": "@jupyter-widgets/base",
       "_view_module_version": "1.2.0",
       "_view_name": "StyleView",
       "description_width": ""
      }
     }
    },
    "version_major": 2,
    "version_minor": 0
   }
  }
 },
 "nbformat": 4,
 "nbformat_minor": 5
}
